{
 "cells": [
  {
   "cell_type": "code",
   "execution_count": null,
   "metadata": {},
   "outputs": [],
   "source": [
    "#Estre programa contém os código demonstrados na aula sobre Aplicação de ML+IoT para o Healthcare(previsão de arritmia)"
   ]
  },
  {
   "cell_type": "code",
   "execution_count": 1,
   "metadata": {},
   "outputs": [],
   "source": [
    "#importando as bibiliotecas\n",
    "import pandas as pd #biblioteca utilizada para tratar os dados em formato de dataframe\n",
    "import numpy as np # biblioteca utilizada para tratar vetores e matrizesimport matplotlib.pyplot as plt  #utilizapa para construir os gráficos em um formato similar ao \"Matlab\"\n",
    "from sklearn.preprocessing import MinMaxScaler, LabelEncoder #utilizada para realizar o preprocessamento dos dados\n",
    "from sklearn.model_selection import train_test_split #utilizada para realizar o divisão entre dados para treinamento e teste\n",
    "from sklearn.metrics import confusion_matrix, accuracy_score #utilizada para verificar a acurácia do modelo construído\n",
    "from sklearn.naive_bayes import GaussianNB # utilizada para construir o modelo de classificação naive_bayes\n",
    "import seaborn as sns #utilizada para constuir os gráficos em uma forma mais \"bonita\"\n",
    "import matplotlib.pyplot as plt #biblioteca para realizar a construção dos gráficos\n",
    "from sklearn.svm import SVC #utilizada para importar o algoritmo SVM"
   ]
  },
  {
   "cell_type": "code",
   "execution_count": 3,
   "metadata": {},
   "outputs": [],
   "source": [
    "#lendo o dataset no formato de dataframe atraves da funcao \"read\" do pandas\n",
    "nomeArquivo = '/home/igorbaio/Documentos/BootcampAnalistaMachineLearning/Cap5/data.csv'\n",
    "dataset = pd.read_csv(nomeArquivo, sep=\",\")#realiza a leitura do banco de dados"
   ]
  },
  {
   "cell_type": "code",
   "execution_count": 4,
   "metadata": {},
   "outputs": [
    {
     "data": {
      "text/html": [
       "<div>\n",
       "<style scoped>\n",
       "    .dataframe tbody tr th:only-of-type {\n",
       "        vertical-align: middle;\n",
       "    }\n",
       "\n",
       "    .dataframe tbody tr th {\n",
       "        vertical-align: top;\n",
       "    }\n",
       "\n",
       "    .dataframe thead th {\n",
       "        text-align: right;\n",
       "    }\n",
       "</style>\n",
       "<table border=\"1\" class=\"dataframe\">\n",
       "  <thead>\n",
       "    <tr style=\"text-align: right;\">\n",
       "      <th></th>\n",
       "      <th>_id</th>\n",
       "      <th>ccf</th>\n",
       "      <th>age</th>\n",
       "      <th>sex</th>\n",
       "      <th>pain location</th>\n",
       "      <th>pain w exertion</th>\n",
       "      <th>relieved after rest</th>\n",
       "      <th>pncaden</th>\n",
       "      <th>chest pain type</th>\n",
       "      <th>resting bp s</th>\n",
       "      <th>...</th>\n",
       "      <th>rcaprox</th>\n",
       "      <th>rcadist</th>\n",
       "      <th>dummy 7</th>\n",
       "      <th>dummy 8</th>\n",
       "      <th>dummy 9</th>\n",
       "      <th>dummy 10</th>\n",
       "      <th>dummy 11</th>\n",
       "      <th>dummy 12</th>\n",
       "      <th>dummy 13</th>\n",
       "      <th>dummy 14</th>\n",
       "    </tr>\n",
       "  </thead>\n",
       "  <tbody>\n",
       "    <tr>\n",
       "      <th>0</th>\n",
       "      <td>1254</td>\n",
       "      <td>0</td>\n",
       "      <td>40</td>\n",
       "      <td>1</td>\n",
       "      <td>1</td>\n",
       "      <td>0</td>\n",
       "      <td>0.0</td>\n",
       "      <td>NaN</td>\n",
       "      <td>2</td>\n",
       "      <td>140.0</td>\n",
       "      <td>...</td>\n",
       "      <td>NaN</td>\n",
       "      <td>NaN</td>\n",
       "      <td>1.0</td>\n",
       "      <td>1.0</td>\n",
       "      <td>1.0</td>\n",
       "      <td>1.0</td>\n",
       "      <td>1.0</td>\n",
       "      <td>NaN</td>\n",
       "      <td>NaN</td>\n",
       "      <td>name</td>\n",
       "    </tr>\n",
       "    <tr>\n",
       "      <th>1</th>\n",
       "      <td>1255</td>\n",
       "      <td>0</td>\n",
       "      <td>49</td>\n",
       "      <td>0</td>\n",
       "      <td>1</td>\n",
       "      <td>0</td>\n",
       "      <td>0.0</td>\n",
       "      <td>NaN</td>\n",
       "      <td>3</td>\n",
       "      <td>160.0</td>\n",
       "      <td>...</td>\n",
       "      <td>NaN</td>\n",
       "      <td>NaN</td>\n",
       "      <td>1.0</td>\n",
       "      <td>1.0</td>\n",
       "      <td>1.0</td>\n",
       "      <td>1.0</td>\n",
       "      <td>1.0</td>\n",
       "      <td>NaN</td>\n",
       "      <td>NaN</td>\n",
       "      <td>name</td>\n",
       "    </tr>\n",
       "    <tr>\n",
       "      <th>2</th>\n",
       "      <td>1256</td>\n",
       "      <td>0</td>\n",
       "      <td>37</td>\n",
       "      <td>1</td>\n",
       "      <td>1</td>\n",
       "      <td>0</td>\n",
       "      <td>0.0</td>\n",
       "      <td>NaN</td>\n",
       "      <td>2</td>\n",
       "      <td>130.0</td>\n",
       "      <td>...</td>\n",
       "      <td>NaN</td>\n",
       "      <td>NaN</td>\n",
       "      <td>1.0</td>\n",
       "      <td>1.0</td>\n",
       "      <td>1.0</td>\n",
       "      <td>1.0</td>\n",
       "      <td>1.0</td>\n",
       "      <td>NaN</td>\n",
       "      <td>NaN</td>\n",
       "      <td>name</td>\n",
       "    </tr>\n",
       "    <tr>\n",
       "      <th>3</th>\n",
       "      <td>1257</td>\n",
       "      <td>0</td>\n",
       "      <td>48</td>\n",
       "      <td>0</td>\n",
       "      <td>1</td>\n",
       "      <td>1</td>\n",
       "      <td>1.0</td>\n",
       "      <td>NaN</td>\n",
       "      <td>4</td>\n",
       "      <td>138.0</td>\n",
       "      <td>...</td>\n",
       "      <td>2.0</td>\n",
       "      <td>NaN</td>\n",
       "      <td>1.0</td>\n",
       "      <td>1.0</td>\n",
       "      <td>1.0</td>\n",
       "      <td>1.0</td>\n",
       "      <td>1.0</td>\n",
       "      <td>NaN</td>\n",
       "      <td>NaN</td>\n",
       "      <td>name</td>\n",
       "    </tr>\n",
       "    <tr>\n",
       "      <th>4</th>\n",
       "      <td>1258</td>\n",
       "      <td>0</td>\n",
       "      <td>54</td>\n",
       "      <td>1</td>\n",
       "      <td>1</td>\n",
       "      <td>0</td>\n",
       "      <td>1.0</td>\n",
       "      <td>NaN</td>\n",
       "      <td>3</td>\n",
       "      <td>150.0</td>\n",
       "      <td>...</td>\n",
       "      <td>1.0</td>\n",
       "      <td>NaN</td>\n",
       "      <td>1.0</td>\n",
       "      <td>1.0</td>\n",
       "      <td>1.0</td>\n",
       "      <td>1.0</td>\n",
       "      <td>1.0</td>\n",
       "      <td>NaN</td>\n",
       "      <td>NaN</td>\n",
       "      <td>name</td>\n",
       "    </tr>\n",
       "  </tbody>\n",
       "</table>\n",
       "<p>5 rows × 76 columns</p>\n",
       "</div>"
      ],
      "text/plain": [
       "    _id  ccf  age  sex  pain location  pain w exertion  relieved after rest  \\\n",
       "0  1254    0   40    1              1                0                  0.0   \n",
       "1  1255    0   49    0              1                0                  0.0   \n",
       "2  1256    0   37    1              1                0                  0.0   \n",
       "3  1257    0   48    0              1                1                  1.0   \n",
       "4  1258    0   54    1              1                0                  1.0   \n",
       "\n",
       "   pncaden  chest pain type  resting bp s  ...  rcaprox  rcadist  dummy 7  \\\n",
       "0      NaN                2         140.0  ...      NaN      NaN      1.0   \n",
       "1      NaN                3         160.0  ...      NaN      NaN      1.0   \n",
       "2      NaN                2         130.0  ...      NaN      NaN      1.0   \n",
       "3      NaN                4         138.0  ...      2.0      NaN      1.0   \n",
       "4      NaN                3         150.0  ...      1.0      NaN      1.0   \n",
       "\n",
       "   dummy 8  dummy 9  dummy 10  dummy 11  dummy 12  dummy 13  dummy 14  \n",
       "0      1.0      1.0       1.0       1.0       NaN       NaN      name  \n",
       "1      1.0      1.0       1.0       1.0       NaN       NaN      name  \n",
       "2      1.0      1.0       1.0       1.0       NaN       NaN      name  \n",
       "3      1.0      1.0       1.0       1.0       NaN       NaN      name  \n",
       "4      1.0      1.0       1.0       1.0       NaN       NaN      name  \n",
       "\n",
       "[5 rows x 76 columns]"
      ]
     },
     "execution_count": 4,
     "metadata": {},
     "output_type": "execute_result"
    }
   ],
   "source": [
    "#print do dataset\n",
    "dataset.head()"
   ]
  },
  {
   "cell_type": "code",
   "execution_count": 6,
   "metadata": {},
   "outputs": [
    {
     "data": {
      "text/plain": [
       "(617, 76)"
      ]
     },
     "execution_count": 6,
     "metadata": {},
     "output_type": "execute_result"
    }
   ],
   "source": [
    "dataset.shape"
   ]
  },
  {
   "cell_type": "code",
   "execution_count": 7,
   "metadata": {},
   "outputs": [
    {
     "name": "stdout",
     "output_type": "stream",
     "text": [
      "<class 'pandas.core.frame.DataFrame'>\n",
      "RangeIndex: 617 entries, 0 to 616\n",
      "Data columns (total 76 columns):\n",
      " #   Column                        Non-Null Count  Dtype  \n",
      "---  ------                        --------------  -----  \n",
      " 0   _id                           617 non-null    int64  \n",
      " 1   ccf                           617 non-null    int64  \n",
      " 2   age                           617 non-null    int64  \n",
      " 3   sex                           617 non-null    int64  \n",
      " 4   pain location                 617 non-null    int64  \n",
      " 5   pain w exertion               617 non-null    int64  \n",
      " 6   relieved after rest           613 non-null    float64\n",
      " 7   pncaden                       0 non-null      float64\n",
      " 8   chest pain type               617 non-null    int64  \n",
      " 9   resting bp s                  558 non-null    float64\n",
      " 10  hypertension                  583 non-null    float64\n",
      " 11  cholesterol                   587 non-null    float64\n",
      " 12  smoker                        230 non-null    float64\n",
      " 13  cigarettes per day            202 non-null    float64\n",
      " 14  years of smoking              190 non-null    float64\n",
      " 15  fasting blood sugar           527 non-null    float64\n",
      " 16  diabetes                      72 non-null     float64\n",
      " 17  family hist                   195 non-null    float64\n",
      " 18  resting ecg                   615 non-null    float64\n",
      " 19  ekg month                     564 non-null    float64\n",
      " 20  ekg day                       563 non-null    float64\n",
      " 21  ekg yr                        564 non-null    float64\n",
      " 22  digitalis                     551 non-null    float64\n",
      " 23  beta blocker                  553 non-null    float64\n",
      " 24  nitrates                      554 non-null    float64\n",
      " 25  calcium channel blocker       556 non-null    float64\n",
      " 26  diuretic                      537 non-null    float64\n",
      " 27  exercise protocol             505 non-null    float64\n",
      " 28  duration of exercise          561 non-null    float64\n",
      " 29  thaltime                      233 non-null    float64\n",
      " 30  mets achieved                 512 non-null    float64\n",
      " 31  max heart rate                562 non-null    float64\n",
      " 32  resting heart rate            561 non-null    float64\n",
      " 33  peak exercise bp 1            554 non-null    float64\n",
      " 34  peak exercise bp 2            554 non-null    float64\n",
      " 35  dummy 1                       558 non-null    float64\n",
      " 36  resting bp d                  558 non-null    float64\n",
      " 37  exercise angina               562 non-null    float64\n",
      " 38  xhypo                         559 non-null    float64\n",
      " 39  oldpeak                       555 non-null    float64\n",
      " 40  ST slope                      309 non-null    float64\n",
      " 41  ST height at rest             474 non-null    float64\n",
      " 42  ST heaight at peak            475 non-null    float64\n",
      " 43  flouroscopy                   11 non-null     float64\n",
      " 44  dummy 2                       0 non-null      float64\n",
      " 45  dummy 3                       1 non-null      float64\n",
      " 46  resting ejection fraction     28 non-null     float64\n",
      " 47  rest wall motion abnormality  30 non-null     float64\n",
      " 48  exercise ejection fraction    2 non-null      float64\n",
      " 49  exercsie wall motion          5 non-null      float64\n",
      " 50  thal                          142 non-null    float64\n",
      " 51  dummy 4                       130 non-null    float64\n",
      " 52  dummy 5                       44 non-null     float64\n",
      " 53  dummy 6                       1 non-null      float64\n",
      " 54  cath month                    606 non-null    float64\n",
      " 55  cath day                      608 non-null    float64\n",
      " 56  cath yr                       608 non-null    float64\n",
      " 57  target                        617 non-null    int64  \n",
      " 58  lmt                           342 non-null    float64\n",
      " 59  ladprox                       381 non-null    float64\n",
      " 60  laddist                       371 non-null    float64\n",
      " 61  diag                          341 non-null    float64\n",
      " 62  cxmain                        382 non-null    float64\n",
      " 63  ramus                         332 non-null    float64\n",
      " 64  om1                           346 non-null    float64\n",
      " 65  om2                           327 non-null    float64\n",
      " 66  rcaprox                       372 non-null    float64\n",
      " 67  rcadist                       347 non-null    float64\n",
      " 68  dummy 7                       598 non-null    float64\n",
      " 69  dummy 8                       598 non-null    float64\n",
      " 70  dummy 9                       598 non-null    float64\n",
      " 71  dummy 10                      598 non-null    float64\n",
      " 72  dummy 11                      601 non-null    float64\n",
      " 73  dummy 12                      311 non-null    float64\n",
      " 74  dummy 13                      119 non-null    float64\n",
      " 75  dummy 14                      617 non-null    object \n",
      "dtypes: float64(67), int64(8), object(1)\n",
      "memory usage: 366.5+ KB\n"
     ]
    }
   ],
   "source": [
    "dataset.info()"
   ]
  },
  {
   "cell_type": "code",
   "execution_count": 8,
   "metadata": {},
   "outputs": [
    {
     "data": {
      "text/html": [
       "<div>\n",
       "<style scoped>\n",
       "    .dataframe tbody tr th:only-of-type {\n",
       "        vertical-align: middle;\n",
       "    }\n",
       "\n",
       "    .dataframe tbody tr th {\n",
       "        vertical-align: top;\n",
       "    }\n",
       "\n",
       "    .dataframe thead th {\n",
       "        text-align: right;\n",
       "    }\n",
       "</style>\n",
       "<table border=\"1\" class=\"dataframe\">\n",
       "  <thead>\n",
       "    <tr style=\"text-align: right;\">\n",
       "      <th></th>\n",
       "      <th>_id</th>\n",
       "      <th>ccf</th>\n",
       "      <th>age</th>\n",
       "      <th>sex</th>\n",
       "      <th>pain location</th>\n",
       "      <th>pain w exertion</th>\n",
       "      <th>relieved after rest</th>\n",
       "      <th>pncaden</th>\n",
       "      <th>chest pain type</th>\n",
       "      <th>resting bp s</th>\n",
       "      <th>...</th>\n",
       "      <th>om2</th>\n",
       "      <th>rcaprox</th>\n",
       "      <th>rcadist</th>\n",
       "      <th>dummy 7</th>\n",
       "      <th>dummy 8</th>\n",
       "      <th>dummy 9</th>\n",
       "      <th>dummy 10</th>\n",
       "      <th>dummy 11</th>\n",
       "      <th>dummy 12</th>\n",
       "      <th>dummy 13</th>\n",
       "    </tr>\n",
       "  </thead>\n",
       "  <tbody>\n",
       "    <tr>\n",
       "      <th>count</th>\n",
       "      <td>617.000000</td>\n",
       "      <td>617.0</td>\n",
       "      <td>617.000000</td>\n",
       "      <td>617.000000</td>\n",
       "      <td>617.000000</td>\n",
       "      <td>617.000000</td>\n",
       "      <td>613.000000</td>\n",
       "      <td>0.0</td>\n",
       "      <td>617.000000</td>\n",
       "      <td>558.000000</td>\n",
       "      <td>...</td>\n",
       "      <td>327.000000</td>\n",
       "      <td>372.000000</td>\n",
       "      <td>347.000000</td>\n",
       "      <td>598.000000</td>\n",
       "      <td>598.000000</td>\n",
       "      <td>598.000000</td>\n",
       "      <td>598.000000</td>\n",
       "      <td>601.000000</td>\n",
       "      <td>311.000000</td>\n",
       "      <td>119.000000</td>\n",
       "    </tr>\n",
       "    <tr>\n",
       "      <th>mean</th>\n",
       "      <td>1325.489465</td>\n",
       "      <td>0.0</td>\n",
       "      <td>53.055105</td>\n",
       "      <td>0.842788</td>\n",
       "      <td>0.920583</td>\n",
       "      <td>0.593193</td>\n",
       "      <td>0.672104</td>\n",
       "      <td>NaN</td>\n",
       "      <td>3.294976</td>\n",
       "      <td>132.372760</td>\n",
       "      <td>...</td>\n",
       "      <td>1.067278</td>\n",
       "      <td>1.470430</td>\n",
       "      <td>1.207493</td>\n",
       "      <td>1.030100</td>\n",
       "      <td>1.048495</td>\n",
       "      <td>1.132107</td>\n",
       "      <td>1.705686</td>\n",
       "      <td>1.194676</td>\n",
       "      <td>27.623119</td>\n",
       "      <td>5.869748</td>\n",
       "    </tr>\n",
       "    <tr>\n",
       "      <th>std</th>\n",
       "      <td>1294.916561</td>\n",
       "      <td>0.0</td>\n",
       "      <td>9.582869</td>\n",
       "      <td>0.364296</td>\n",
       "      <td>0.270607</td>\n",
       "      <td>0.491637</td>\n",
       "      <td>0.469830</td>\n",
       "      <td>NaN</td>\n",
       "      <td>0.913743</td>\n",
       "      <td>19.828097</td>\n",
       "      <td>...</td>\n",
       "      <td>0.250887</td>\n",
       "      <td>0.499797</td>\n",
       "      <td>0.406097</td>\n",
       "      <td>0.336148</td>\n",
       "      <td>0.503910</td>\n",
       "      <td>0.673205</td>\n",
       "      <td>1.834072</td>\n",
       "      <td>0.541946</td>\n",
       "      <td>31.675295</td>\n",
       "      <td>1.650914</td>\n",
       "    </tr>\n",
       "    <tr>\n",
       "      <th>min</th>\n",
       "      <td>1.000000</td>\n",
       "      <td>0.0</td>\n",
       "      <td>28.000000</td>\n",
       "      <td>0.000000</td>\n",
       "      <td>0.000000</td>\n",
       "      <td>0.000000</td>\n",
       "      <td>0.000000</td>\n",
       "      <td>NaN</td>\n",
       "      <td>1.000000</td>\n",
       "      <td>0.000000</td>\n",
       "      <td>...</td>\n",
       "      <td>1.000000</td>\n",
       "      <td>1.000000</td>\n",
       "      <td>1.000000</td>\n",
       "      <td>1.000000</td>\n",
       "      <td>1.000000</td>\n",
       "      <td>1.000000</td>\n",
       "      <td>1.000000</td>\n",
       "      <td>0.000000</td>\n",
       "      <td>0.220000</td>\n",
       "      <td>3.300000</td>\n",
       "    </tr>\n",
       "    <tr>\n",
       "      <th>25%</th>\n",
       "      <td>157.000000</td>\n",
       "      <td>0.0</td>\n",
       "      <td>47.000000</td>\n",
       "      <td>1.000000</td>\n",
       "      <td>1.000000</td>\n",
       "      <td>0.000000</td>\n",
       "      <td>0.000000</td>\n",
       "      <td>NaN</td>\n",
       "      <td>3.000000</td>\n",
       "      <td>120.000000</td>\n",
       "      <td>...</td>\n",
       "      <td>1.000000</td>\n",
       "      <td>1.000000</td>\n",
       "      <td>1.000000</td>\n",
       "      <td>1.000000</td>\n",
       "      <td>1.000000</td>\n",
       "      <td>1.000000</td>\n",
       "      <td>1.000000</td>\n",
       "      <td>1.000000</td>\n",
       "      <td>0.685000</td>\n",
       "      <td>4.800000</td>\n",
       "    </tr>\n",
       "    <tr>\n",
       "      <th>50%</th>\n",
       "      <td>1120.000000</td>\n",
       "      <td>0.0</td>\n",
       "      <td>54.000000</td>\n",
       "      <td>1.000000</td>\n",
       "      <td>1.000000</td>\n",
       "      <td>1.000000</td>\n",
       "      <td>1.000000</td>\n",
       "      <td>NaN</td>\n",
       "      <td>4.000000</td>\n",
       "      <td>130.000000</td>\n",
       "      <td>...</td>\n",
       "      <td>1.000000</td>\n",
       "      <td>1.000000</td>\n",
       "      <td>1.000000</td>\n",
       "      <td>1.000000</td>\n",
       "      <td>1.000000</td>\n",
       "      <td>1.000000</td>\n",
       "      <td>1.000000</td>\n",
       "      <td>1.000000</td>\n",
       "      <td>0.820000</td>\n",
       "      <td>5.600000</td>\n",
       "    </tr>\n",
       "    <tr>\n",
       "      <th>75%</th>\n",
       "      <td>1282.000000</td>\n",
       "      <td>0.0</td>\n",
       "      <td>60.000000</td>\n",
       "      <td>1.000000</td>\n",
       "      <td>1.000000</td>\n",
       "      <td>1.000000</td>\n",
       "      <td>1.000000</td>\n",
       "      <td>NaN</td>\n",
       "      <td>4.000000</td>\n",
       "      <td>142.000000</td>\n",
       "      <td>...</td>\n",
       "      <td>1.000000</td>\n",
       "      <td>2.000000</td>\n",
       "      <td>1.000000</td>\n",
       "      <td>1.000000</td>\n",
       "      <td>1.000000</td>\n",
       "      <td>1.000000</td>\n",
       "      <td>1.000000</td>\n",
       "      <td>1.000000</td>\n",
       "      <td>63.000000</td>\n",
       "      <td>6.900000</td>\n",
       "    </tr>\n",
       "    <tr>\n",
       "      <th>max</th>\n",
       "      <td>5002.000000</td>\n",
       "      <td>0.0</td>\n",
       "      <td>77.000000</td>\n",
       "      <td>1.000000</td>\n",
       "      <td>1.000000</td>\n",
       "      <td>1.000000</td>\n",
       "      <td>1.000000</td>\n",
       "      <td>NaN</td>\n",
       "      <td>4.000000</td>\n",
       "      <td>200.000000</td>\n",
       "      <td>...</td>\n",
       "      <td>2.000000</td>\n",
       "      <td>2.000000</td>\n",
       "      <td>2.000000</td>\n",
       "      <td>7.000000</td>\n",
       "      <td>10.000000</td>\n",
       "      <td>7.000000</td>\n",
       "      <td>8.000000</td>\n",
       "      <td>5.000000</td>\n",
       "      <td>86.000000</td>\n",
       "      <td>11.300000</td>\n",
       "    </tr>\n",
       "  </tbody>\n",
       "</table>\n",
       "<p>8 rows × 75 columns</p>\n",
       "</div>"
      ],
      "text/plain": [
       "               _id    ccf         age         sex  pain location  \\\n",
       "count   617.000000  617.0  617.000000  617.000000     617.000000   \n",
       "mean   1325.489465    0.0   53.055105    0.842788       0.920583   \n",
       "std    1294.916561    0.0    9.582869    0.364296       0.270607   \n",
       "min       1.000000    0.0   28.000000    0.000000       0.000000   \n",
       "25%     157.000000    0.0   47.000000    1.000000       1.000000   \n",
       "50%    1120.000000    0.0   54.000000    1.000000       1.000000   \n",
       "75%    1282.000000    0.0   60.000000    1.000000       1.000000   \n",
       "max    5002.000000    0.0   77.000000    1.000000       1.000000   \n",
       "\n",
       "       pain w exertion  relieved after rest  pncaden  chest pain type  \\\n",
       "count       617.000000           613.000000      0.0       617.000000   \n",
       "mean          0.593193             0.672104      NaN         3.294976   \n",
       "std           0.491637             0.469830      NaN         0.913743   \n",
       "min           0.000000             0.000000      NaN         1.000000   \n",
       "25%           0.000000             0.000000      NaN         3.000000   \n",
       "50%           1.000000             1.000000      NaN         4.000000   \n",
       "75%           1.000000             1.000000      NaN         4.000000   \n",
       "max           1.000000             1.000000      NaN         4.000000   \n",
       "\n",
       "       resting bp s  ...         om2     rcaprox     rcadist     dummy 7  \\\n",
       "count    558.000000  ...  327.000000  372.000000  347.000000  598.000000   \n",
       "mean     132.372760  ...    1.067278    1.470430    1.207493    1.030100   \n",
       "std       19.828097  ...    0.250887    0.499797    0.406097    0.336148   \n",
       "min        0.000000  ...    1.000000    1.000000    1.000000    1.000000   \n",
       "25%      120.000000  ...    1.000000    1.000000    1.000000    1.000000   \n",
       "50%      130.000000  ...    1.000000    1.000000    1.000000    1.000000   \n",
       "75%      142.000000  ...    1.000000    2.000000    1.000000    1.000000   \n",
       "max      200.000000  ...    2.000000    2.000000    2.000000    7.000000   \n",
       "\n",
       "          dummy 8     dummy 9    dummy 10    dummy 11    dummy 12    dummy 13  \n",
       "count  598.000000  598.000000  598.000000  601.000000  311.000000  119.000000  \n",
       "mean     1.048495    1.132107    1.705686    1.194676   27.623119    5.869748  \n",
       "std      0.503910    0.673205    1.834072    0.541946   31.675295    1.650914  \n",
       "min      1.000000    1.000000    1.000000    0.000000    0.220000    3.300000  \n",
       "25%      1.000000    1.000000    1.000000    1.000000    0.685000    4.800000  \n",
       "50%      1.000000    1.000000    1.000000    1.000000    0.820000    5.600000  \n",
       "75%      1.000000    1.000000    1.000000    1.000000   63.000000    6.900000  \n",
       "max     10.000000    7.000000    8.000000    5.000000   86.000000   11.300000  \n",
       "\n",
       "[8 rows x 75 columns]"
      ]
     },
     "execution_count": 8,
     "metadata": {},
     "output_type": "execute_result"
    }
   ],
   "source": [
    "dataset.describe()"
   ]
  },
  {
   "cell_type": "code",
   "execution_count": 9,
   "metadata": {},
   "outputs": [
    {
     "data": {
      "text/html": [
       "<div>\n",
       "<style scoped>\n",
       "    .dataframe tbody tr th:only-of-type {\n",
       "        vertical-align: middle;\n",
       "    }\n",
       "\n",
       "    .dataframe tbody tr th {\n",
       "        vertical-align: top;\n",
       "    }\n",
       "\n",
       "    .dataframe thead th {\n",
       "        text-align: right;\n",
       "    }\n",
       "</style>\n",
       "<table border=\"1\" class=\"dataframe\">\n",
       "  <thead>\n",
       "    <tr style=\"text-align: right;\">\n",
       "      <th></th>\n",
       "      <th>_id</th>\n",
       "      <th>ccf</th>\n",
       "      <th>age</th>\n",
       "      <th>sex</th>\n",
       "      <th>pain location</th>\n",
       "      <th>pain w exertion</th>\n",
       "      <th>relieved after rest</th>\n",
       "      <th>pncaden</th>\n",
       "      <th>chest pain type</th>\n",
       "      <th>resting bp s</th>\n",
       "      <th>...</th>\n",
       "      <th>rcaprox</th>\n",
       "      <th>rcadist</th>\n",
       "      <th>dummy 7</th>\n",
       "      <th>dummy 8</th>\n",
       "      <th>dummy 9</th>\n",
       "      <th>dummy 10</th>\n",
       "      <th>dummy 11</th>\n",
       "      <th>dummy 12</th>\n",
       "      <th>dummy 13</th>\n",
       "      <th>dummy 14</th>\n",
       "    </tr>\n",
       "  </thead>\n",
       "  <tbody>\n",
       "    <tr>\n",
       "      <th>0</th>\n",
       "      <td>1254</td>\n",
       "      <td>0</td>\n",
       "      <td>40</td>\n",
       "      <td>1</td>\n",
       "      <td>1</td>\n",
       "      <td>0</td>\n",
       "      <td>0.0</td>\n",
       "      <td>NaN</td>\n",
       "      <td>2</td>\n",
       "      <td>140.0</td>\n",
       "      <td>...</td>\n",
       "      <td>1.47043</td>\n",
       "      <td>1.207493</td>\n",
       "      <td>1.0</td>\n",
       "      <td>1.0</td>\n",
       "      <td>1.0</td>\n",
       "      <td>1.0</td>\n",
       "      <td>1.0</td>\n",
       "      <td>27.623119</td>\n",
       "      <td>5.869748</td>\n",
       "      <td>name</td>\n",
       "    </tr>\n",
       "    <tr>\n",
       "      <th>1</th>\n",
       "      <td>1255</td>\n",
       "      <td>0</td>\n",
       "      <td>49</td>\n",
       "      <td>0</td>\n",
       "      <td>1</td>\n",
       "      <td>0</td>\n",
       "      <td>0.0</td>\n",
       "      <td>NaN</td>\n",
       "      <td>3</td>\n",
       "      <td>160.0</td>\n",
       "      <td>...</td>\n",
       "      <td>1.47043</td>\n",
       "      <td>1.207493</td>\n",
       "      <td>1.0</td>\n",
       "      <td>1.0</td>\n",
       "      <td>1.0</td>\n",
       "      <td>1.0</td>\n",
       "      <td>1.0</td>\n",
       "      <td>27.623119</td>\n",
       "      <td>5.869748</td>\n",
       "      <td>name</td>\n",
       "    </tr>\n",
       "    <tr>\n",
       "      <th>2</th>\n",
       "      <td>1256</td>\n",
       "      <td>0</td>\n",
       "      <td>37</td>\n",
       "      <td>1</td>\n",
       "      <td>1</td>\n",
       "      <td>0</td>\n",
       "      <td>0.0</td>\n",
       "      <td>NaN</td>\n",
       "      <td>2</td>\n",
       "      <td>130.0</td>\n",
       "      <td>...</td>\n",
       "      <td>1.47043</td>\n",
       "      <td>1.207493</td>\n",
       "      <td>1.0</td>\n",
       "      <td>1.0</td>\n",
       "      <td>1.0</td>\n",
       "      <td>1.0</td>\n",
       "      <td>1.0</td>\n",
       "      <td>27.623119</td>\n",
       "      <td>5.869748</td>\n",
       "      <td>name</td>\n",
       "    </tr>\n",
       "    <tr>\n",
       "      <th>3</th>\n",
       "      <td>1257</td>\n",
       "      <td>0</td>\n",
       "      <td>48</td>\n",
       "      <td>0</td>\n",
       "      <td>1</td>\n",
       "      <td>1</td>\n",
       "      <td>1.0</td>\n",
       "      <td>NaN</td>\n",
       "      <td>4</td>\n",
       "      <td>138.0</td>\n",
       "      <td>...</td>\n",
       "      <td>2.00000</td>\n",
       "      <td>1.207493</td>\n",
       "      <td>1.0</td>\n",
       "      <td>1.0</td>\n",
       "      <td>1.0</td>\n",
       "      <td>1.0</td>\n",
       "      <td>1.0</td>\n",
       "      <td>27.623119</td>\n",
       "      <td>5.869748</td>\n",
       "      <td>name</td>\n",
       "    </tr>\n",
       "    <tr>\n",
       "      <th>4</th>\n",
       "      <td>1258</td>\n",
       "      <td>0</td>\n",
       "      <td>54</td>\n",
       "      <td>1</td>\n",
       "      <td>1</td>\n",
       "      <td>0</td>\n",
       "      <td>1.0</td>\n",
       "      <td>NaN</td>\n",
       "      <td>3</td>\n",
       "      <td>150.0</td>\n",
       "      <td>...</td>\n",
       "      <td>1.00000</td>\n",
       "      <td>1.207493</td>\n",
       "      <td>1.0</td>\n",
       "      <td>1.0</td>\n",
       "      <td>1.0</td>\n",
       "      <td>1.0</td>\n",
       "      <td>1.0</td>\n",
       "      <td>27.623119</td>\n",
       "      <td>5.869748</td>\n",
       "      <td>name</td>\n",
       "    </tr>\n",
       "  </tbody>\n",
       "</table>\n",
       "<p>5 rows × 76 columns</p>\n",
       "</div>"
      ],
      "text/plain": [
       "    _id  ccf  age  sex  pain location  pain w exertion  relieved after rest  \\\n",
       "0  1254    0   40    1              1                0                  0.0   \n",
       "1  1255    0   49    0              1                0                  0.0   \n",
       "2  1256    0   37    1              1                0                  0.0   \n",
       "3  1257    0   48    0              1                1                  1.0   \n",
       "4  1258    0   54    1              1                0                  1.0   \n",
       "\n",
       "   pncaden  chest pain type  resting bp s  ...  rcaprox   rcadist  dummy 7  \\\n",
       "0      NaN                2         140.0  ...  1.47043  1.207493      1.0   \n",
       "1      NaN                3         160.0  ...  1.47043  1.207493      1.0   \n",
       "2      NaN                2         130.0  ...  1.47043  1.207493      1.0   \n",
       "3      NaN                4         138.0  ...  2.00000  1.207493      1.0   \n",
       "4      NaN                3         150.0  ...  1.00000  1.207493      1.0   \n",
       "\n",
       "   dummy 8  dummy 9  dummy 10  dummy 11   dummy 12  dummy 13  dummy 14  \n",
       "0      1.0      1.0       1.0       1.0  27.623119  5.869748      name  \n",
       "1      1.0      1.0       1.0       1.0  27.623119  5.869748      name  \n",
       "2      1.0      1.0       1.0       1.0  27.623119  5.869748      name  \n",
       "3      1.0      1.0       1.0       1.0  27.623119  5.869748      name  \n",
       "4      1.0      1.0       1.0       1.0  27.623119  5.869748      name  \n",
       "\n",
       "[5 rows x 76 columns]"
      ]
     },
     "execution_count": 9,
     "metadata": {},
     "output_type": "execute_result"
    }
   ],
   "source": [
    "#tratando os dados nulos\n",
    "dataset.fillna(dataset.mean(), inplace = True)#substitui os dados que estao NaN pela media dos valores na coluna\n",
    "dataset.head()"
   ]
  },
  {
   "cell_type": "code",
   "execution_count": 10,
   "metadata": {},
   "outputs": [],
   "source": [
    "#preparando os dados\n",
    "dataset_to_array = np.array(dataset) #tranforma o dataframe em array para facilitar \n",
    "                                     #a escolha dos dados a serem utilizados"
   ]
  },
  {
   "cell_type": "code",
   "execution_count": 16,
   "metadata": {},
   "outputs": [
    {
     "data": {
      "text/plain": [
       "array([0, 1, 0, 3, 0, 0, 0, 0, 1, 0, 0, 3, 0, 3, 0, 0, 1, 0, 1, 1, 0, 0,\n",
       "       0, 3, 0, 0, 0, 0, 0, 0, 3, 0, 1, 3, 0, 0, 1, 0, 0, 0, 0, 4, 0, 0,\n",
       "       3, 0, 0, 0, 0, 1, 2, 4, 0, 0, 0, 0, 1, 1, 0, 3, 0, 0, 0, 1, 0, 0,\n",
       "       0, 0, 3, 0, 1, 0, 2, 0, 2, 0, 2, 0, 0, 1, 0, 0, 1, 0, 2, 3, 3, 0,\n",
       "       2, 0, 0, 0, 0, 2, 0, 2, 0, 0, 0, 0, 4, 0, 2, 1, 1, 0, 0, 0, 0, 0,\n",
       "       0, 2, 0, 0, 0, 1, 1, 1, 0, 1, 3, 0, 0, 4, 0, 0, 0, 0, 0, 0, 0, 1,\n",
       "       3, 3, 0, 1, 0, 0, 2, 1, 4, 4, 4, 0, 3, 0, 0, 0, 0, 2, 0, 0, 0, 0,\n",
       "       0, 4, 2, 0, 3, 0, 3, 4, 0, 0, 0, 0, 3, 4, 0, 0, 0, 0, 0, 0, 0, 4,\n",
       "       4, 3, 0, 0, 0, 1, 0, 3, 0, 0, 2, 0, 1, 0, 3, 0, 0, 0, 0, 0, 0, 0,\n",
       "       0, 2, 0, 0, 0, 0, 0, 0, 0, 0, 1, 0, 1, 1, 1, 0, 0, 1, 0, 2, 0, 0,\n",
       "       0, 2, 1, 0, 0, 0, 1, 0, 1, 0, 0, 0, 0, 0, 0, 0, 0, 4, 3, 2, 2, 0,\n",
       "       2, 3, 0, 1, 0, 2, 2, 2, 3, 4, 1, 0, 0, 3, 0, 0, 0, 0, 0, 0, 0, 2,\n",
       "       3, 1, 0, 3, 0, 2, 0, 0, 0, 1, 0, 0, 0, 3, 2, 0, 0, 0, 4, 0, 0, 0,\n",
       "       0, 0, 0, 0, 0, 0, 0, 0, 1, 1, 1, 1, 3, 4, 2, 1, 0, 4, 1, 2, 2, 1,\n",
       "       0, 1, 1, 0, 3, 2, 1, 0, 1, 1, 1, 3, 1, 1, 1, 2, 2, 1, 1, 0, 1, 2,\n",
       "       1, 1, 1, 0, 2, 2, 1, 0, 3, 2, 1, 3, 1, 1, 2, 3, 1, 2, 2, 3, 1, 1,\n",
       "       2, 2, 4, 4, 2, 1, 3, 1, 1, 3, 1, 2, 2, 0, 3, 2, 3, 2, 3, 3, 3, 1,\n",
       "       1, 3, 1, 3, 3, 3, 3, 3, 3, 4, 1, 2, 1, 2, 2, 2, 2, 2, 1, 3, 1, 2,\n",
       "       2, 2, 1, 2, 3, 1, 1, 3, 2, 1, 3, 3, 1, 3, 1, 3, 1, 3, 2, 3, 1, 2,\n",
       "       0, 2, 1, 0, 0, 3, 0, 3, 1, 0, 1, 1, 1, 1, 0, 4, 1, 0, 0, 2, 1, 3,\n",
       "       0, 2, 2, 2, 1, 1, 3, 3, 3, 3, 3, 2, 3, 2, 0, 1, 0, 3, 1, 3, 0, 4,\n",
       "       2, 1, 0, 2, 0, 1, 0, 2, 0, 1, 2, 2, 3, 0, 1, 0, 2, 1, 4, 2, 2, 3,\n",
       "       1, 1, 1, 0, 2, 0, 3, 3, 1, 2, 3, 2, 1, 0, 2, 2, 2, 4, 2, 3, 0, 1,\n",
       "       1, 3, 0, 3, 1, 0, 3, 0, 1, 1, 0, 1, 3, 1, 1, 0, 3, 1, 1, 0, 0, 3,\n",
       "       0, 3, 1, 1, 3, 2, 2, 3, 1, 2, 3, 1, 0, 1, 4, 1, 2, 0, 0, 1, 3, 1,\n",
       "       0, 3, 0, 3, 3, 0, 2, 0, 4, 2, 4, 0, 0, 0, 1, 3, 3, 0, 3, 1, 1, 2,\n",
       "       2, 2, 2, 2, 1, 4, 3, 3, 3, 1, 3, 2, 0, 2, 1, 1, 0, 3, 1, 0, 0, 4,\n",
       "       2, 3, 1, 1, 0, 1, 1, 0, 1, 3, 2, 2, 0, 0, 4, 3, 1, 2, 1, 0, 2, 0,\n",
       "       1])"
      ]
     },
     "execution_count": 16,
     "metadata": {},
     "output_type": "execute_result"
    }
   ],
   "source": [
    "target = dataset_to_array[:, 57] #esse é o vetor de saida(target)\n",
    "target = target.astype('int')#indica o tipo de dados\n",
    "#target[target>0] = 1 #0 para o coraçao saudavel e 1 para problema detectado\n",
    "target"
   ]
  },
  {
   "cell_type": "code",
   "execution_count": 19,
   "metadata": {},
   "outputs": [],
   "source": [
    "#Iniciando a previsao\n",
    "#dados coletados pelos sensores\n",
    "dataset_sensor = np.column_stack((\n",
    "    dataset_to_array[:, 11], # pressao sanguinea em repouso\n",
    "    dataset_to_array[:, 33], #frequencia maxima atingida\n",
    "    dataset_to_array[:, 34], #frequencia cardiaca em repouso\n",
    "    dataset_to_array[:, 35], # pico de pressão sanguínea durante exercício \n",
    "    dataset_to_array[:, 36], # pico de pressão sanguínea durante exercício \n",
    "    dataset_to_array[:, 38] #pressao sanguinea em repouso\n",
    "    ))"
   ]
  },
  {
   "cell_type": "code",
   "execution_count": 20,
   "metadata": {},
   "outputs": [],
   "source": [
    "#dataset com os dados medicos do paciente\n",
    "dataset_medico = np.column_stack((\n",
    "    dataset_to_array[:, 4], #localizacao da dor\n",
    "    dataset_to_array[:, 6], #alivio apos o cansaco\n",
    "    dataset_to_array[:, 9], #tipo de dor\n",
    "    dataset_to_array[:, 39], #angina induzida pelo exercicio (1 = sim; 0=nao)\n",
    "    dataset.age,#idade\n",
    "    dataset.sex,#sexo\n",
    "    dataset.hypertension #hipertensao\n",
    "))"
   ]
  },
  {
   "cell_type": "code",
   "execution_count": 21,
   "metadata": {},
   "outputs": [
    {
     "data": {
      "text/plain": [
       "array([[1, 0.0, 140.0, ..., 140.0, 86.0, 0.0],\n",
       "       [1, 0.0, 160.0, ..., 160.0, 90.0, 0.0],\n",
       "       [1, 0.0, 130.0, ..., 130.0, 80.0, 0.0],\n",
       "       ...,\n",
       "       [1, 1.0, 122.0, ..., 122.0, 70.0, 0.0],\n",
       "       [1, 1.0, 132.37275985663084, ..., 132.37275985663084,\n",
       "        82.80465949820788, 0.028622540250447227],\n",
       "       [1, 0.0, 120.0, ..., 120.0, 80.0, 0.0]], dtype=object)"
      ]
     },
     "execution_count": 21,
     "metadata": {},
     "output_type": "execute_result"
    }
   ],
   "source": [
    "#concatena as duas bases de dados\n",
    "dataset_paciente = np.concatenate((dataset_medico,dataset_sensor), axis=1)\n",
    "dataset_paciente"
   ]
  },
  {
   "cell_type": "code",
   "execution_count": 22,
   "metadata": {},
   "outputs": [
    {
     "data": {
      "text/plain": [
       "(617, 13)"
      ]
     },
     "execution_count": 22,
     "metadata": {},
     "output_type": "execute_result"
    }
   ],
   "source": [
    "dataset_paciente.shape"
   ]
  },
  {
   "cell_type": "code",
   "execution_count": 23,
   "metadata": {},
   "outputs": [],
   "source": [
    "#encontrando os dados para treinamento e teste\n",
    "X_train, x_test, y_train, y_test = train_test_split(dataset_paciente, target, random_state=223)"
   ]
  },
  {
   "cell_type": "code",
   "execution_count": 24,
   "metadata": {},
   "outputs": [],
   "source": [
    "#cria o objeto SVM\n",
    "modelSVM = SVC(kernel = 'linear')#escolha do kernel polinomial"
   ]
  },
  {
   "cell_type": "code",
   "execution_count": 25,
   "metadata": {},
   "outputs": [
    {
     "data": {
      "text/plain": [
       "SVC(C=1.0, break_ties=False, cache_size=200, class_weight=None, coef0=0.0,\n",
       "    decision_function_shape='ovr', degree=3, gamma='scale', kernel='linear',\n",
       "    max_iter=-1, probability=False, random_state=None, shrinking=True,\n",
       "    tol=0.001, verbose=False)"
      ]
     },
     "execution_count": 25,
     "metadata": {},
     "output_type": "execute_result"
    }
   ],
   "source": [
    "#aplica o treinamento do modelo\n",
    "modelSVM.fit(X_train, y_train)"
   ]
  },
  {
   "cell_type": "code",
   "execution_count": 26,
   "metadata": {},
   "outputs": [],
   "source": [
    "#Analisando a performance do modelo\n",
    "previsao = modelSVM.predict(x_test)# aplica o modelo para os dados de teste"
   ]
  },
  {
   "cell_type": "code",
   "execution_count": 27,
   "metadata": {},
   "outputs": [
    {
     "data": {
      "text/plain": [
       "array([1, 0, 2, 0, 0, 0, 1, 0, 0, 0, 0, 3, 2, 3, 0, 0, 1, 0, 0, 0, 0, 1,\n",
       "       0, 3, 3, 0, 1, 1, 3, 1, 0, 1, 0, 1, 1, 0, 1, 1, 0, 0, 1, 2, 0, 3,\n",
       "       0, 0, 1, 0, 0, 1, 3, 0, 0, 1, 3, 1, 0, 1, 2, 0, 0, 0, 0, 0, 1, 1,\n",
       "       0, 3, 0, 0, 0, 0, 1, 0, 3, 0, 0, 1, 0, 1, 0, 3, 3, 0, 1, 2, 0, 1,\n",
       "       0, 0, 2, 0, 0, 2, 0, 3, 0, 0, 2, 1, 0, 1, 0, 2, 3, 0, 0, 2, 1, 1,\n",
       "       1, 0, 1, 0, 1, 3, 3, 3, 0, 0, 0, 3, 3, 0, 0, 0, 1, 2, 1, 0, 1, 1,\n",
       "       0, 0, 0, 0, 3, 0, 0, 3, 1, 0, 1, 0, 0, 0, 3, 1, 3, 3, 0, 1, 0, 3,\n",
       "       0])"
      ]
     },
     "execution_count": 27,
     "metadata": {},
     "output_type": "execute_result"
    }
   ],
   "source": [
    "previsao"
   ]
  },
  {
   "cell_type": "code",
   "execution_count": 32,
   "metadata": {},
   "outputs": [
    {
     "name": "stdout",
     "output_type": "stream",
     "text": [
      "Acuracia utilizando o SVM 0.5419354838709678 \n",
      "Em porcentagem : 54.0 %\n",
      "\n"
     ]
    }
   ],
   "source": [
    "#encontra a acuracia do modelo de previsao utilizando o SVM\n",
    "acuracia = accuracy_score(y_test,previsao)\n",
    "print(\"Acuracia utilizando o SVM\", acuracia,\"\\nEm porcentagem :\", round(acuracia*100),\"%\\n\")"
   ]
  },
  {
   "cell_type": "code",
   "execution_count": 33,
   "metadata": {},
   "outputs": [
    {
     "data": {
      "text/plain": [
       "<matplotlib.axes._subplots.AxesSubplot at 0x7fbf539cd250>"
      ]
     },
     "execution_count": 33,
     "metadata": {},
     "output_type": "execute_result"
    },
    {
     "data": {
      "image/png": "[encoded data removed]",
      "text/plain": [
       "<Figure size 720x504 with 2 Axes>"
      ]
     },
     "metadata": {
      "needs_background": "light"
     },
     "output_type": "display_data"
    }
   ],
   "source": [
    "#criando a matriz de confusao\n",
    "cm = confusion_matrix(y_test,previsao)#gera a matriz de confusao\n",
    "df_cm = pd.DataFrame(cm, index = [i for i in \"01234\"], columns = [i for i in \"01234\"]) #cria o df com as classes\n",
    "plt.figure(figsize = (10,7)) #indica o tamanho da figura\n",
    "sns.heatmap(df_cm, annot=True)#plota a figura"
   ]
  },
  {
   "cell_type": "code",
   "execution_count": 36,
   "metadata": {},
   "outputs": [
    {
     "data": {
      "text/plain": [
       "array([0, 1, 0, 1, 0, 0, 0, 0, 1, 0, 0, 1, 0, 1, 0, 0, 1, 0, 1, 1, 0, 0,\n",
       "       0, 1, 0, 0, 0, 0, 0, 0, 1, 0, 1, 1, 0, 0, 1, 0, 0, 0, 0, 1, 0, 0,\n",
       "       1, 0, 0, 0, 0, 1, 1, 1, 0, 0, 0, 0, 1, 1, 0, 1, 0, 0, 0, 1, 0, 0,\n",
       "       0, 0, 1, 0, 1, 0, 1, 0, 1, 0, 1, 0, 0, 1, 0, 0, 1, 0, 1, 1, 1, 0,\n",
       "       1, 0, 0, 0, 0, 1, 0, 1, 0, 0, 0, 0, 1, 0, 1, 1, 1, 0, 0, 0, 0, 0,\n",
       "       0, 1, 0, 0, 0, 1, 1, 1, 0, 1, 1, 0, 0, 1, 0, 0, 0, 0, 0, 0, 0, 1,\n",
       "       1, 1, 0, 1, 0, 0, 1, 1, 1, 1, 1, 0, 1, 0, 0, 0, 0, 1, 0, 0, 0, 0,\n",
       "       0, 1, 1, 0, 1, 0, 1, 1, 0, 0, 0, 0, 1, 1, 0, 0, 0, 0, 0, 0, 0, 1,\n",
       "       1, 1, 0, 0, 0, 1, 0, 1, 0, 0, 1, 0, 1, 0, 1, 0, 0, 0, 0, 0, 0, 0,\n",
       "       0, 1, 0, 0, 0, 0, 0, 0, 0, 0, 1, 0, 1, 1, 1, 0, 0, 1, 0, 1, 0, 0,\n",
       "       0, 1, 1, 0, 0, 0, 1, 0, 1, 0, 0, 0, 0, 0, 0, 0, 0, 1, 1, 1, 1, 0,\n",
       "       1, 1, 0, 1, 0, 1, 1, 1, 1, 1, 1, 0, 0, 1, 0, 0, 0, 0, 0, 0, 0, 1,\n",
       "       1, 1, 0, 1, 0, 1, 0, 0, 0, 1, 0, 0, 0, 1, 1, 0, 0, 0, 1, 0, 0, 0,\n",
       "       0, 0, 0, 0, 0, 0, 0, 0, 1, 1, 1, 1, 1, 1, 1, 1, 0, 1, 1, 1, 1, 1,\n",
       "       0, 1, 1, 0, 1, 1, 1, 0, 1, 1, 1, 1, 1, 1, 1, 1, 1, 1, 1, 0, 1, 1,\n",
       "       1, 1, 1, 0, 1, 1, 1, 0, 1, 1, 1, 1, 1, 1, 1, 1, 1, 1, 1, 1, 1, 1,\n",
       "       1, 1, 1, 1, 1, 1, 1, 1, 1, 1, 1, 1, 1, 0, 1, 1, 1, 1, 1, 1, 1, 1,\n",
       "       1, 1, 1, 1, 1, 1, 1, 1, 1, 1, 1, 1, 1, 1, 1, 1, 1, 1, 1, 1, 1, 1,\n",
       "       1, 1, 1, 1, 1, 1, 1, 1, 1, 1, 1, 1, 1, 1, 1, 1, 1, 1, 1, 1, 1, 1,\n",
       "       0, 1, 1, 0, 0, 1, 0, 1, 1, 0, 1, 1, 1, 1, 0, 1, 1, 0, 0, 1, 1, 1,\n",
       "       0, 1, 1, 1, 1, 1, 1, 1, 1, 1, 1, 1, 1, 1, 0, 1, 0, 1, 1, 1, 0, 1,\n",
       "       1, 1, 0, 1, 0, 1, 0, 1, 0, 1, 1, 1, 1, 0, 1, 0, 1, 1, 1, 1, 1, 1,\n",
       "       1, 1, 1, 0, 1, 0, 1, 1, 1, 1, 1, 1, 1, 0, 1, 1, 1, 1, 1, 1, 0, 1,\n",
       "       1, 1, 0, 1, 1, 0, 1, 0, 1, 1, 0, 1, 1, 1, 1, 0, 1, 1, 1, 0, 0, 1,\n",
       "       0, 1, 1, 1, 1, 1, 1, 1, 1, 1, 1, 1, 0, 1, 1, 1, 1, 0, 0, 1, 1, 1,\n",
       "       0, 1, 0, 1, 1, 0, 1, 0, 1, 1, 1, 0, 0, 0, 1, 1, 1, 0, 1, 1, 1, 1,\n",
       "       1, 1, 1, 1, 1, 1, 1, 1, 1, 1, 1, 1, 0, 1, 1, 1, 0, 1, 1, 0, 0, 1,\n",
       "       1, 1, 1, 1, 0, 1, 1, 0, 1, 1, 1, 1, 0, 0, 1, 1, 1, 1, 1, 0, 1, 0,\n",
       "       1])"
      ]
     },
     "execution_count": 36,
     "metadata": {},
     "output_type": "execute_result"
    }
   ],
   "source": [
    "#Modificando o Dataset\n",
    "#vamos escolher apenas 13 atributos para realizar a previsão de doenças cardíacas\n",
    "\n",
    "dataset_to_array = np.array(dataset)\n",
    "label = dataset_to_array[:,57] # \"Target\" classes binárias 0 e 1\n",
    "label = label.astype('int')\n",
    "label[label>0] = 1 # Quando os dados são 0 está saldável e 1 \n",
    "label"
   ]
  },
  {
   "cell_type": "code",
   "execution_count": 37,
   "metadata": {},
   "outputs": [],
   "source": [
    "#encontrando os dados para treinamento e teste\n",
    "X_train, X_test, y_train, y_test = train_test_split(dataset_paciente, label, random_state=223)"
   ]
  },
  {
   "cell_type": "code",
   "execution_count": 38,
   "metadata": {},
   "outputs": [],
   "source": [
    "#cria o objeto SVM\n",
    "modelSVM = SVC(kernel = 'linear') #escolha do kernel polinomial"
   ]
  },
  {
   "cell_type": "code",
   "execution_count": 39,
   "metadata": {},
   "outputs": [
    {
     "data": {
      "text/plain": [
       "SVC(C=1.0, break_ties=False, cache_size=200, class_weight=None, coef0=0.0,\n",
       "    decision_function_shape='ovr', degree=3, gamma='scale', kernel='linear',\n",
       "    max_iter=-1, probability=False, random_state=None, shrinking=True,\n",
       "    tol=0.001, verbose=False)"
      ]
     },
     "execution_count": 39,
     "metadata": {},
     "output_type": "execute_result"
    }
   ],
   "source": [
    "#aplica o treinamento ao modelo\n",
    "modelSVM.fit(X_train, y_train)\n"
   ]
  },
  {
   "cell_type": "code",
   "execution_count": 40,
   "metadata": {},
   "outputs": [
    {
     "data": {
      "text/plain": [
       "array([1, 0, 1, 0, 1, 0, 1, 0, 1, 0, 0, 1, 1, 1, 1, 0, 1, 1, 0, 1, 0, 1,\n",
       "       0, 1, 1, 1, 1, 1, 1, 1, 1, 1, 0, 1, 1, 0, 1, 1, 0, 0, 1, 1, 0, 1,\n",
       "       1, 1, 1, 0, 0, 1, 1, 0, 0, 1, 1, 0, 0, 1, 1, 1, 1, 1, 0, 0, 1, 1,\n",
       "       0, 1, 1, 0, 1, 0, 1, 1, 1, 0, 0, 1, 1, 1, 0, 1, 1, 0, 1, 1, 1, 1,\n",
       "       0, 0, 1, 1, 0, 1, 1, 1, 1, 1, 1, 1, 0, 1, 0, 1, 1, 0, 1, 1, 1, 1,\n",
       "       1, 0, 1, 1, 1, 1, 1, 1, 0, 1, 0, 1, 1, 0, 0, 0, 1, 1, 1, 0, 1, 1,\n",
       "       0, 1, 1, 0, 1, 0, 0, 1, 1, 0, 1, 1, 0, 0, 1, 1, 1, 1, 0, 1, 0, 1,\n",
       "       0])"
      ]
     },
     "execution_count": 40,
     "metadata": {},
     "output_type": "execute_result"
    }
   ],
   "source": [
    "previsao = modelSVM.predict(X_test) #aplica o modelo para os dados de teste\n",
    "previsao"
   ]
  },
  {
   "cell_type": "code",
   "execution_count": 41,
   "metadata": {},
   "outputs": [
    {
     "name": "stdout",
     "output_type": "stream",
     "text": [
      "Acuracia utilizando o SVM : 0.7419354838709677 \n",
      "Em porcentagem :  74.0 %\n",
      "\n"
     ]
    }
   ],
   "source": [
    "#encontra a acuracia do modelo de previsão utilizando o SVM \n",
    "accuracia = accuracy_score(y_test, previsao)\n",
    "print (\"Acuracia utilizando o SVM :\" , accuracia , \"\\nEm porcentagem : \", round(accuracia*100) , \"%\\n\")"
   ]
  },
  {
   "cell_type": "code",
   "execution_count": 45,
   "metadata": {},
   "outputs": [
    {
     "data": {
      "text/plain": [
       "<matplotlib.axes._subplots.AxesSubplot at 0x7fbf5191add0>"
      ]
     },
     "execution_count": 45,
     "metadata": {},
     "output_type": "execute_result"
    },
    {
     "data": {
      "image/png": "[encoded data removed]",
      "text/plain": [
       "<Figure size 720x504 with 2 Axes>"
      ]
     },
     "metadata": {
      "needs_background": "light"
     },
     "output_type": "display_data"
    }
   ],
   "source": [
    "#matriz de confusao\n",
    "cm = confusion_matrix(y_test, previsao)#gera a matriz\n",
    "df_cm = pd.DataFrame(cm, index = [i for i in \"01\"], columns = [i for i in \"01\"]) #cira o df com as classes\n",
    "plt.figure(figsize = (10,7))#indica o tamanho da figura\n",
    "sns.heatmap(df_cm, annot=True)#plota a figura"
   ]
  },
  {
   "cell_type": "code",
   "execution_count": null,
   "metadata": {},
   "outputs": [],
   "source": []
  }
 ],
 "metadata": {
  "kernelspec": {
   "display_name": "Python 3",
   "language": "python",
   "name": "python3"
  },
  "language_info": {
   "codemirror_mode": {
    "name": "ipython",
    "version": 3
   },
   "file_extension": ".py",
   "mimetype": "text/x-python",
   "name": "python",
   "nbconvert_exporter": "python",
   "pygments_lexer": "ipython3",
   "version": "3.7.6"
  }
 },
 "nbformat": 4,
 "nbformat_minor": 4
}
