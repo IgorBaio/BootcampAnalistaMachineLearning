{
 "cells": [
  {
   "cell_type": "markdown",
   "metadata": {},
   "source": [
    "**Programa para verificar se o ser vivo é quadrupede ou bípede**\n",
    "\n",
    "**Quadrupede = 1    Bipede = -1**\n",
    "\n",
    "**-->cao = [-1,-1,1,1] | resposta = 1**\n",
    "\n",
    "**-->gato = [1,1,1,1] | resposta = 1**\n",
    "\n",
    "**-->cavalo = [1,1,-1,1] | resposta = 1**\n",
    "\n",
    "**-->homem = [-1,-1,-1,1] resposta = -1**"
   ]
  },
  {
   "cell_type": "code",
   "execution_count": null,
   "metadata": {},
   "outputs": [],
   "source": [
    "#pesos(sinapses)\n",
    "w=[0,0,0,0]"
   ]
  },
  {
   "cell_type": "code",
   "execution_count": null,
   "metadata": {},
   "outputs": [],
   "source": [
    "# entradas\n",
    "x = [[-1,-1,1,1],\n",
    "     [1,1,1,1],\n",
    "     [1,1,-1,1],\n",
    "    [-1,-1,-1,1]    \n",
    "]"
   ]
  },
  {
   "cell_type": "code",
   "execution_count": null,
   "metadata": {},
   "outputs": [],
   "source": [
    "#respostas esperadas\n",
    "t = [1,1,1,-1]"
   ]
  },
  {
   "cell_type": "code",
   "execution_count": null,
   "metadata": {},
   "outputs": [],
   "source": [
    "# bias (ajuste fino)\n",
    "b = 0"
   ]
  },
  {
   "cell_type": "code",
   "execution_count": null,
   "metadata": {},
   "outputs": [],
   "source": [
    "#saida\n",
    "y = 0"
   ]
  },
  {
   "cell_type": "code",
   "execution_count": null,
   "metadata": {},
   "outputs": [],
   "source": [
    "# numero maximo de interações\n",
    "max_int = 10"
   ]
  },
  {
   "cell_type": "code",
   "execution_count": null,
   "metadata": {},
   "outputs": [],
   "source": [
    "#taxa de aprendizado\n",
    "taxa_aprendizado = 1"
   ]
  },
  {
   "cell_type": "code",
   "execution_count": null,
   "metadata": {},
   "outputs": [],
   "source": [
    "#soma\n",
    "soma = 0"
   ]
  },
  {
   "cell_type": "code",
   "execution_count": null,
   "metadata": {},
   "outputs": [],
   "source": [
    "#threshold\n",
    "threshold = 1"
   ]
  },
  {
   "cell_type": "code",
   "execution_count": null,
   "metadata": {},
   "outputs": [],
   "source": [
    "#nome do animal\n",
    "animal = \"\""
   ]
  },
  {
   "cell_type": "code",
   "execution_count": null,
   "metadata": {},
   "outputs": [],
   "source": [
    "#resposta = acerto ou falha\n",
    "resposta = \"\""
   ]
  },
  {
   "cell_type": "code",
   "execution_count": null,
   "metadata": {},
   "outputs": [],
   "source": [
    "#dicionario de dados\n",
    "d = {\"-1,-1,1,1\" : \"cao\",\n",
    "    \"1,1,1,1\" : \"gato\",\n",
    "     \"1,1,-1,1\" : \"cavalo\",\n",
    "     \"-1,-1,-1,1\" : \"homem\",\n",
    "    }\n",
    "print(\"Treinando\")"
   ]
  },
  {
   "cell_type": "code",
   "execution_count": null,
   "metadata": {},
   "outputs": [],
   "source": [
    "#funcao para converter lista em strings\n",
    "def listToString(List):\n",
    "    s = str(List).strip('[]')\n",
    "    s = s.replace(\" \",\"\")\n",
    "    return s"
   ]
  },
  {
   "cell_type": "code",
   "execution_count": null,
   "metadata": {},
   "outputs": [],
   "source": [
    "#inicio do algoritmo\n",
    "for k in range(1, max_int ):\n",
    "    acertos = 0\n",
    "    print(\"Interacao \"+str(k)+\"----------------------\")\n",
    "    for i in range(0, len(x)):\n",
    "        soma = 0\n",
    "        \n",
    "        #pega o nome do animal no dicionario\n",
    "        if(listToString(x[i]) in d):\n",
    "            animal = d[listToString(x[i])]\n",
    "        else:\n",
    "            animal = \"\"\n",
    "        \n",
    "        #para calcular a saida do perceptron, cada entrada de x eh de multiplicada pelo seu peso w correspondente\n",
    "        for j in range(0,len(x[i])):\n",
    "            soma += x[i][j] *w[j]\n",
    "            \n",
    "        #a saida eh igual a adicao do bias com a soma anterior\n",
    "        y_in = b + soma\n",
    "        \n",
    "        if y_in > threshold:\n",
    "            y = 1\n",
    "        elif y_in >= -threshold and y_in <= threshold:\n",
    "            y = 0\n",
    "        else:\n",
    "            y = -1\n",
    "        \n",
    "        #atualiza os pesos caso a saida nao corresponda ao valor esperado\n",
    "        if y == t[i]:\n",
    "            acertos += 1\n",
    "            resposta = \"acerto\"\n",
    "        else:\n",
    "            for j in range(0, len(w)):\n",
    "                # Peso ant + (tx aprendizado * valor esperado * valor do x no vetor)\n",
    "                w[j] = w[j] + (taxa_aprendizado * t[i] * x[i][j])\n",
    "                print(\"Novo peso \"+str(j)+\" \"+str(w[j]))\n",
    "            #bias ou erro = classe anterior - classe atual\n",
    "            b = t[i] - y\n",
    "            resposta = \"Falha - Peso atualizado \"+\"Bias = \"+str(b)\n",
    "        #imprime a resposta\n",
    "        if y == 1:\n",
    "            print(animal+\" = quadrupede = \"+resposta)\n",
    "        elif y == 0:\n",
    "            print(animal+\" = padrao nao identificado = \"+resposta)\n",
    "        elif y == -1:\n",
    "            print(animal+\" = bipede = \"+resposta)\n",
    "    \n",
    "    if acertos == len(x):\n",
    "        print(\"Funcionalidade apendida com \"+ str(k)+\" interacoes\")\n",
    "        break\n",
    "    print(\"\")\n",
    "print(\"Finalizado\")"
   ]
  }
 ],
 "metadata": {
  "kernelspec": {
   "display_name": "Python 3",
   "language": "python",
   "name": "python3"
  },
  "language_info": {
   "codemirror_mode": {
    "name": "ipython",
    "version": 3
   },
   "file_extension": ".py",
   "mimetype": "text/x-python",
   "name": "python",
   "nbconvert_exporter": "python",
   "pygments_lexer": "ipython3",
   "version": "3.7.6"
  }
 },
 "nbformat": 4,
 "nbformat_minor": 4
}
