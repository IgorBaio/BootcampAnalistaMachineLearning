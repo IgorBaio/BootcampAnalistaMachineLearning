{
 "cells": [
  {
   "cell_type": "code",
   "execution_count": null,
   "metadata": {},
   "outputs": [],
   "source": [
    "import pandas as pd\n",
    "import numpy as np\n",
    "import matplotlib.pyplot as plt\n",
    "from scipy import stats"
   ]
  },
  {
   "cell_type": "code",
   "execution_count": null,
   "metadata": {},
   "outputs": [],
   "source": [
    "#Base de dados\n",
    "xi = [3246, 3476, 3724, 3773, 3837, 3968, 4198, 4048, 4170, 4226, 4788, 4009, 3568, 4357]"
   ]
  },
  {
   "cell_type": "code",
   "execution_count": null,
   "metadata": {},
   "outputs": [],
   "source": [
    "#Base com anomalias \n",
    "xy = [6799, 3476, 3724, 3773, 3837, 3968, 4198, 4048, 4170, 4226, 4788, 4009, 3568, 4357]"
   ]
  },
  {
   "cell_type": "code",
   "execution_count": null,
   "metadata": {},
   "outputs": [],
   "source": [
    "def print_full(x):\n",
    "    pd.set_option('display.max_rows',len(x))\n",
    "    pd.set_option('display.max_columns', len(x))\n",
    "    print(x)\n",
    "    pd.reset_option('display.max_rows')\n",
    "    pd.reset_option('display.max_columns')"
   ]
  },
  {
   "cell_type": "code",
   "execution_count": null,
   "metadata": {},
   "outputs": [],
   "source": [
    "#Média\n",
    "xi_mean = np.mean(xi)\n",
    "xy_mean = np.mean(xy)"
   ]
  },
  {
   "cell_type": "code",
   "execution_count": null,
   "metadata": {},
   "outputs": [],
   "source": [
    "#Mediana\n",
    "xi_median = np.median(xi)\n",
    "xy_median = np.median(xy)"
   ]
  },
  {
   "cell_type": "code",
   "execution_count": null,
   "metadata": {},
   "outputs": [],
   "source": [
    "#Moda\n",
    "xi_mode = stats.mode(xi)\n",
    "xy_mode = stats.mode(xy)"
   ]
  },
  {
   "cell_type": "code",
   "execution_count": null,
   "metadata": {},
   "outputs": [],
   "source": [
    "print(\"Minha lista sem anomalias: \"+str(xi))\n",
    "print(\"A mediana da lista é: \"+str(xi_median))\n",
    "print(\"A moda da lista é: \"+str(xi_mode.mode))\n",
    "print(\"\\nnha lista com anomalias: \"+str(xy))\n",
    "print(\"A mediana da lista é: \"+str(xy_median))\n",
    "print(\"A moda da lista é: \"+str(xy_mode.mode))"
   ]
  },
  {
   "cell_type": "code",
   "execution_count": null,
   "metadata": {},
   "outputs": [],
   "source": [
    "#Desvio padrão\n",
    "xi_sd = np.std(xi,ddof=1)\n",
    "xy_sd = np.std(xy,ddof=1)"
   ]
  },
  {
   "cell_type": "code",
   "execution_count": null,
   "metadata": {},
   "outputs": [],
   "source": [
    "#Z-Score\n",
    "z_score_i = (xi - xi_mean) / xi_sd\n",
    "z_score_y = (xy - xy_mean) / xy_sd"
   ]
  },
  {
   "cell_type": "code",
   "execution_count": null,
   "metadata": {},
   "outputs": [],
   "source": [
    "df = pd.DataFrame({\"Base (sem anomalias)\":xi, \"Z-score (sem anomalias)\":z_score_i,\n",
    "                    \"Base (com anomalias)\":xy, \"Z-score (com anomalias)\":z_score_y})\n",
    "df.round(2)\n",
    "cols = [\"Base (sem anomalias)\", \"Z-score (sem anomalias)\",\"Base (com anomalias)\", \"Z-score (com anomalias)\"]\n",
    "df = df[cols]\n",
    "print_full(df)"
   ]
  },
  {
   "cell_type": "code",
   "execution_count": null,
   "metadata": {},
   "outputs": [],
   "source": [
    "#Plot da distribuição normal\n",
    "stats.probplot(xi, dist=\"norm\", plot=plt)\n",
    "plt.show()"
   ]
  },
  {
   "cell_type": "code",
   "execution_count": null,
   "metadata": {},
   "outputs": [],
   "source": [
    "#Plot da distribuição normal\n",
    "stats.probplot(xy, dist=\"norm\", plot=plt)\n",
    "plt.show()"
   ]
  },
  {
   "cell_type": "code",
   "execution_count": null,
   "metadata": {},
   "outputs": [],
   "source": [
    "#Create a figure Instance\n",
    "fig_xi = plt.figure(1,figsize=(6,4))"
   ]
  },
  {
   "cell_type": "code",
   "execution_count": null,
   "metadata": {},
   "outputs": [],
   "source": [
    "#Create an axes instances\n",
    "axi = fig_xi.add_subplot(111)\n",
    "bp_xi = axi.boxplot(xi)"
   ]
  },
  {
   "cell_type": "code",
   "execution_count": null,
   "metadata": {},
   "outputs": [],
   "source": [
    "#Create a figure Instance\n",
    "fig_xy = plt.figure(1,figsize=(6,4))"
   ]
  },
  {
   "cell_type": "code",
   "execution_count": null,
   "metadata": {},
   "outputs": [],
   "source": [
    "#Create an axes instances\n",
    "axy = fig_xy.add_subplot(111)\n",
    "bp_xy = axy.boxplot(xy)"
   ]
  }
 ],
 "metadata": {
  "kernelspec": {
   "display_name": "Python 3",
   "language": "python",
   "name": "python3"
  },
  "language_info": {
   "codemirror_mode": {
    "name": "ipython",
    "version": 3
   },
   "file_extension": ".py",
   "mimetype": "text/x-python",
   "name": "python",
   "nbconvert_exporter": "python",
   "pygments_lexer": "ipython3",
   "version": "3.7.6"
  }
 },
 "nbformat": 4,
 "nbformat_minor": 4
}
