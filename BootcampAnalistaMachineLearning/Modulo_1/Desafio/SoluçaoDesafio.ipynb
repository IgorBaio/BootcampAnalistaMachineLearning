{
 "cells": [
  {
   "cell_type": "code",
   "execution_count": null,
   "metadata": {
    "colab": {},
    "colab_type": "code",
    "id": "h7obNPb4Pf23"
   },
   "outputs": [],
   "source": [
    "#Estre programa contém os código demonstrados na aula sobre Aplicação de ML+IoT para o Healthcare(previsão de arritmia)"
   ]
  },
  {
   "cell_type": "code",
   "execution_count": 1,
   "metadata": {
    "colab": {},
    "colab_type": "code",
    "id": "sC7A3T2UR7ka"
   },
   "outputs": [
    {
     "name": "stderr",
     "output_type": "stream",
     "text": [
      "Using TensorFlow backend.\n"
     ]
    }
   ],
   "source": [
    "#importando as bibliotecas\n",
    "import pandas as pd #biblioteca utilizada para tratar os dados em formato de dataframe\n",
    "import numpy as np # biblioteca utilizada para tratar vetores e matrizesimport matplotlib.pyplot as plt  #utilizapa para construir os gráficos em um formato similar ao \"Matlab\"\n",
    "from sklearn.preprocessing import MinMaxScaler, LabelEncoder #utilizada para realizar o preprocessamento dos dados\n",
    "from sklearn.model_selection import train_test_split #utilizada para realizar o divisão entre dados para treinamento e teste\n",
    "from sklearn.metrics import confusion_matrix, accuracy_score #utilizada para verificar a acurácia do modelo construído\n",
    "from sklearn.naive_bayes import GaussianNB # utilizada para construir o modelo de classificação naive_bayes\n",
    "import seaborn as sns #utilizada para constuir os gráficos em uma forma mais \"bonita\"\n",
    "import matplotlib.pyplot as plt #biblioteca para realizar a construção dos gráficos\n",
    "from sklearn.svm import SVC #utilizada para importar o algoritmo SVM\n",
    "from keras.models import Sequential\n",
    "from keras.layers import Dense, Dropout"
   ]
  },
  {
   "cell_type": "code",
   "execution_count": 2,
   "metadata": {
    "colab": {},
    "colab_type": "code",
    "id": "WtVKtZSPTjed"
   },
   "outputs": [],
   "source": [
    "#lendo o dataset no formato de dataframe atraves da funcao \"read\" do pandas\n",
    "nomeArquivo = '/home/igorbaio/Documentos/BootcampAnalistaMachineLearning/Modulo_1/Desafio/comp_bikes_mod.csv'\n",
    "dataset = pd.read_csv(nomeArquivo, sep=\",\")#realiza a leitura do banco de dados"
   ]
  },
  {
   "cell_type": "code",
   "execution_count": 5,
   "metadata": {
    "colab": {
     "base_uri": "https://localhost:8080/",
     "height": 266
    },
    "colab_type": "code",
    "executionInfo": {
     "elapsed": 654,
     "status": "ok",
     "timestamp": 1578685930433,
     "user": {
      "displayName": "Tulio Philipe",
      "photoUrl": "https://lh3.googleusercontent.com/a-/AAuE7mA1ZGOGyoLKRxvjkdb3Nahe1kQsDTygha29jmC4YA=s64",
      "userId": "06907869093485551957"
     },
     "user_tz": 180
    },
    "id": "sKF5jReLToAt",
    "outputId": "51ed797c-2568-43b2-dbf5-ec7c98839665"
   },
   "outputs": [
    {
     "data": {
      "text/html": [
       "<div>\n",
       "<style scoped>\n",
       "    .dataframe tbody tr th:only-of-type {\n",
       "        vertical-align: middle;\n",
       "    }\n",
       "\n",
       "    .dataframe tbody tr th {\n",
       "        vertical-align: top;\n",
       "    }\n",
       "\n",
       "    .dataframe thead th {\n",
       "        text-align: right;\n",
       "    }\n",
       "</style>\n",
       "<table border=\"1\" class=\"dataframe\">\n",
       "  <thead>\n",
       "    <tr style=\"text-align: right;\">\n",
       "      <th></th>\n",
       "      <th>instant</th>\n",
       "      <th>dteday</th>\n",
       "      <th>season</th>\n",
       "      <th>yr</th>\n",
       "      <th>mnth</th>\n",
       "      <th>hr</th>\n",
       "      <th>holiday</th>\n",
       "      <th>weekday</th>\n",
       "      <th>workingday</th>\n",
       "      <th>weathersit</th>\n",
       "      <th>temp</th>\n",
       "      <th>atemp</th>\n",
       "      <th>hum</th>\n",
       "      <th>windspeed</th>\n",
       "      <th>casual</th>\n",
       "      <th>registered</th>\n",
       "      <th>cnt</th>\n",
       "    </tr>\n",
       "  </thead>\n",
       "  <tbody>\n",
       "    <tr>\n",
       "      <th>0</th>\n",
       "      <td>1.0</td>\n",
       "      <td>NaN</td>\n",
       "      <td>1.0</td>\n",
       "      <td>0.0</td>\n",
       "      <td>1.0</td>\n",
       "      <td>0.0</td>\n",
       "      <td>0.0</td>\n",
       "      <td>6.0</td>\n",
       "      <td>0.0</td>\n",
       "      <td>1.0</td>\n",
       "      <td>NaN</td>\n",
       "      <td>0.2879</td>\n",
       "      <td>0.81</td>\n",
       "      <td>0.0</td>\n",
       "      <td>3.0</td>\n",
       "      <td>13.0</td>\n",
       "      <td>16.0</td>\n",
       "    </tr>\n",
       "    <tr>\n",
       "      <th>1</th>\n",
       "      <td>2.0</td>\n",
       "      <td>2011-01-01</td>\n",
       "      <td>1.0</td>\n",
       "      <td>0.0</td>\n",
       "      <td>1.0</td>\n",
       "      <td>1.0</td>\n",
       "      <td>0.0</td>\n",
       "      <td>6.0</td>\n",
       "      <td>0.0</td>\n",
       "      <td>NaN</td>\n",
       "      <td>0.22</td>\n",
       "      <td>0.2727</td>\n",
       "      <td>0.80</td>\n",
       "      <td>0.0</td>\n",
       "      <td>8.0</td>\n",
       "      <td>32.0</td>\n",
       "      <td>40.0</td>\n",
       "    </tr>\n",
       "    <tr>\n",
       "      <th>2</th>\n",
       "      <td>3.0</td>\n",
       "      <td>2011-01-01</td>\n",
       "      <td>1.0</td>\n",
       "      <td>0.0</td>\n",
       "      <td>1.0</td>\n",
       "      <td>2.0</td>\n",
       "      <td>0.0</td>\n",
       "      <td>6.0</td>\n",
       "      <td>0.0</td>\n",
       "      <td>1.0</td>\n",
       "      <td>0.22</td>\n",
       "      <td>0.2727</td>\n",
       "      <td>0.80</td>\n",
       "      <td>0.0</td>\n",
       "      <td>5.0</td>\n",
       "      <td>27.0</td>\n",
       "      <td>32.0</td>\n",
       "    </tr>\n",
       "    <tr>\n",
       "      <th>3</th>\n",
       "      <td>4.0</td>\n",
       "      <td>2011-01-01</td>\n",
       "      <td>1.0</td>\n",
       "      <td>0.0</td>\n",
       "      <td>1.0</td>\n",
       "      <td>3.0</td>\n",
       "      <td>0.0</td>\n",
       "      <td>6.0</td>\n",
       "      <td>0.0</td>\n",
       "      <td>1.0</td>\n",
       "      <td>0.24</td>\n",
       "      <td>0.2879</td>\n",
       "      <td>0.75</td>\n",
       "      <td>0.0</td>\n",
       "      <td>3.0</td>\n",
       "      <td>10.0</td>\n",
       "      <td>13.0</td>\n",
       "    </tr>\n",
       "    <tr>\n",
       "      <th>4</th>\n",
       "      <td>5.0</td>\n",
       "      <td>2011-01-01</td>\n",
       "      <td>1.0</td>\n",
       "      <td>0.0</td>\n",
       "      <td>1.0</td>\n",
       "      <td>4.0</td>\n",
       "      <td>0.0</td>\n",
       "      <td>6.0</td>\n",
       "      <td>NaN</td>\n",
       "      <td>1.0</td>\n",
       "      <td>0.24</td>\n",
       "      <td>0.2879</td>\n",
       "      <td>0.75</td>\n",
       "      <td>0.0</td>\n",
       "      <td>0.0</td>\n",
       "      <td>1.0</td>\n",
       "      <td>1.0</td>\n",
       "    </tr>\n",
       "  </tbody>\n",
       "</table>\n",
       "</div>"
      ],
      "text/plain": [
       "   instant      dteday  season   yr  mnth   hr  holiday  weekday  workingday  \\\n",
       "0      1.0         NaN     1.0  0.0   1.0  0.0      0.0      6.0         0.0   \n",
       "1      2.0  2011-01-01     1.0  0.0   1.0  1.0      0.0      6.0         0.0   \n",
       "2      3.0  2011-01-01     1.0  0.0   1.0  2.0      0.0      6.0         0.0   \n",
       "3      4.0  2011-01-01     1.0  0.0   1.0  3.0      0.0      6.0         0.0   \n",
       "4      5.0  2011-01-01     1.0  0.0   1.0  4.0      0.0      6.0         NaN   \n",
       "\n",
       "   weathersit  temp   atemp   hum  windspeed  casual  registered   cnt  \n",
       "0         1.0   NaN  0.2879  0.81        0.0     3.0        13.0  16.0  \n",
       "1         NaN  0.22  0.2727  0.80        0.0     8.0        32.0  40.0  \n",
       "2         1.0  0.22  0.2727  0.80        0.0     5.0        27.0  32.0  \n",
       "3         1.0  0.24  0.2879  0.75        0.0     3.0        10.0  13.0  \n",
       "4         1.0  0.24  0.2879  0.75        0.0     0.0         1.0   1.0  "
      ]
     },
     "execution_count": 5,
     "metadata": {},
     "output_type": "execute_result"
    }
   ],
   "source": [
    "#print do dataset\n",
    "dataset.head() "
   ]
  },
  {
   "cell_type": "code",
   "execution_count": 6,
   "metadata": {
    "colab": {
     "base_uri": "https://localhost:8080/",
     "height": 34
    },
    "colab_type": "code",
    "executionInfo": {
     "elapsed": 485,
     "status": "ok",
     "timestamp": 1578685968743,
     "user": {
      "displayName": "Tulio Philipe",
      "photoUrl": "https://lh3.googleusercontent.com/a-/AAuE7mA1ZGOGyoLKRxvjkdb3Nahe1kQsDTygha29jmC4YA=s64",
      "userId": "06907869093485551957"
     },
     "user_tz": 180
    },
    "id": "58CchuX9T7-O",
    "outputId": "cc9bc1ad-b4ab-4093-eec7-728d2f7da6a2"
   },
   "outputs": [
    {
     "data": {
      "text/plain": [
       "(17379, 17)"
      ]
     },
     "execution_count": 6,
     "metadata": {},
     "output_type": "execute_result"
    }
   ],
   "source": [
    "dataset.shape # mostra a dimensão do dataset"
   ]
  },
  {
   "cell_type": "code",
   "execution_count": 7,
   "metadata": {},
   "outputs": [
    {
     "data": {
      "text/plain": [
       "instant       1738\n",
       "dteday        1738\n",
       "season        1738\n",
       "yr            1738\n",
       "mnth          1738\n",
       "hr            1738\n",
       "holiday       1738\n",
       "weekday       1738\n",
       "workingday    1738\n",
       "weathersit    1738\n",
       "temp          1738\n",
       "atemp         1738\n",
       "hum           1738\n",
       "windspeed     1738\n",
       "casual        1738\n",
       "registered    1738\n",
       "cnt           1738\n",
       "dtype: int64"
      ]
     },
     "execution_count": 7,
     "metadata": {},
     "output_type": "execute_result"
    }
   ],
   "source": [
    "nans = dataset.isna().sum()\n",
    "nans[nans>0]"
   ]
  },
  {
   "cell_type": "code",
   "execution_count": 8,
   "metadata": {
    "colab": {
     "base_uri": "https://localhost:8080/",
     "height": 1000
    },
    "colab_type": "code",
    "executionInfo": {
     "elapsed": 485,
     "status": "ok",
     "timestamp": 1578685983432,
     "user": {
      "displayName": "Tulio Philipe",
      "photoUrl": "https://lh3.googleusercontent.com/a-/AAuE7mA1ZGOGyoLKRxvjkdb3Nahe1kQsDTygha29jmC4YA=s64",
      "userId": "06907869093485551957"
     },
     "user_tz": 180
    },
    "id": "b86-phsqUyTt",
    "outputId": "c726c9fd-a8fd-40a9-bad0-5663f6a50c6b"
   },
   "outputs": [
    {
     "name": "stdout",
     "output_type": "stream",
     "text": [
      "<class 'pandas.core.frame.DataFrame'>\n",
      "RangeIndex: 17379 entries, 0 to 17378\n",
      "Data columns (total 17 columns):\n",
      " #   Column      Non-Null Count  Dtype  \n",
      "---  ------      --------------  -----  \n",
      " 0   instant     15641 non-null  float64\n",
      " 1   dteday      15641 non-null  object \n",
      " 2   season      15641 non-null  float64\n",
      " 3   yr          15641 non-null  float64\n",
      " 4   mnth        15641 non-null  float64\n",
      " 5   hr          15641 non-null  float64\n",
      " 6   holiday     15641 non-null  float64\n",
      " 7   weekday     15641 non-null  float64\n",
      " 8   workingday  15641 non-null  float64\n",
      " 9   weathersit  15641 non-null  float64\n",
      " 10  temp        15641 non-null  float64\n",
      " 11  atemp       15641 non-null  float64\n",
      " 12  hum         15641 non-null  float64\n",
      " 13  windspeed   15641 non-null  float64\n",
      " 14  casual      15641 non-null  float64\n",
      " 15  registered  15641 non-null  float64\n",
      " 16  cnt         15641 non-null  float64\n",
      "dtypes: float64(16), object(1)\n",
      "memory usage: 2.3+ MB\n"
     ]
    }
   ],
   "source": [
    "#conhecendo o dataset\n",
    "dataset.info()"
   ]
  },
  {
   "cell_type": "code",
   "execution_count": 9,
   "metadata": {},
   "outputs": [],
   "source": [
    "dataset = dataset.dropna(axis=0,subset=['dteday'])"
   ]
  },
  {
   "cell_type": "markdown",
   "metadata": {
    "colab_type": "text",
    "id": "C94xdHV8U_CT"
   },
   "source": [
    "**Existem vários dados nulos**"
   ]
  },
  {
   "cell_type": "code",
   "execution_count": 11,
   "metadata": {
    "colab": {
     "base_uri": "https://localhost:8080/",
     "height": 266
    },
    "colab_type": "code",
    "executionInfo": {
     "elapsed": 498,
     "status": "ok",
     "timestamp": 1578686019111,
     "user": {
      "displayName": "Tulio Philipe",
      "photoUrl": "https://lh3.googleusercontent.com/a-/AAuE7mA1ZGOGyoLKRxvjkdb3Nahe1kQsDTygha29jmC4YA=s64",
      "userId": "06907869093485551957"
     },
     "user_tz": 180
    },
    "id": "dP0j8CtCU7XC",
    "outputId": "404d392b-1417-4d2c-fd6b-a52f6311263f"
   },
   "outputs": [
    {
     "data": {
      "text/html": [
       "<div>\n",
       "<style scoped>\n",
       "    .dataframe tbody tr th:only-of-type {\n",
       "        vertical-align: middle;\n",
       "    }\n",
       "\n",
       "    .dataframe tbody tr th {\n",
       "        vertical-align: top;\n",
       "    }\n",
       "\n",
       "    .dataframe thead th {\n",
       "        text-align: right;\n",
       "    }\n",
       "</style>\n",
       "<table border=\"1\" class=\"dataframe\">\n",
       "  <thead>\n",
       "    <tr style=\"text-align: right;\">\n",
       "      <th></th>\n",
       "      <th>instant</th>\n",
       "      <th>dteday</th>\n",
       "      <th>season</th>\n",
       "      <th>yr</th>\n",
       "      <th>mnth</th>\n",
       "      <th>hr</th>\n",
       "      <th>holiday</th>\n",
       "      <th>weekday</th>\n",
       "      <th>workingday</th>\n",
       "      <th>weathersit</th>\n",
       "      <th>temp</th>\n",
       "      <th>atemp</th>\n",
       "      <th>hum</th>\n",
       "      <th>windspeed</th>\n",
       "      <th>casual</th>\n",
       "      <th>registered</th>\n",
       "      <th>cnt</th>\n",
       "    </tr>\n",
       "  </thead>\n",
       "  <tbody>\n",
       "    <tr>\n",
       "      <th>1</th>\n",
       "      <td>2.0</td>\n",
       "      <td>2011-01-01</td>\n",
       "      <td>1.0</td>\n",
       "      <td>0.0</td>\n",
       "      <td>1.0</td>\n",
       "      <td>1.0</td>\n",
       "      <td>0.0</td>\n",
       "      <td>6.0</td>\n",
       "      <td>0.000000</td>\n",
       "      <td>1.422432</td>\n",
       "      <td>0.22</td>\n",
       "      <td>0.2727</td>\n",
       "      <td>0.80</td>\n",
       "      <td>0.0000</td>\n",
       "      <td>8.0</td>\n",
       "      <td>32.0</td>\n",
       "      <td>40.0</td>\n",
       "    </tr>\n",
       "    <tr>\n",
       "      <th>2</th>\n",
       "      <td>3.0</td>\n",
       "      <td>2011-01-01</td>\n",
       "      <td>1.0</td>\n",
       "      <td>0.0</td>\n",
       "      <td>1.0</td>\n",
       "      <td>2.0</td>\n",
       "      <td>0.0</td>\n",
       "      <td>6.0</td>\n",
       "      <td>0.000000</td>\n",
       "      <td>1.000000</td>\n",
       "      <td>0.22</td>\n",
       "      <td>0.2727</td>\n",
       "      <td>0.80</td>\n",
       "      <td>0.0000</td>\n",
       "      <td>5.0</td>\n",
       "      <td>27.0</td>\n",
       "      <td>32.0</td>\n",
       "    </tr>\n",
       "    <tr>\n",
       "      <th>3</th>\n",
       "      <td>4.0</td>\n",
       "      <td>2011-01-01</td>\n",
       "      <td>1.0</td>\n",
       "      <td>0.0</td>\n",
       "      <td>1.0</td>\n",
       "      <td>3.0</td>\n",
       "      <td>0.0</td>\n",
       "      <td>6.0</td>\n",
       "      <td>0.000000</td>\n",
       "      <td>1.000000</td>\n",
       "      <td>0.24</td>\n",
       "      <td>0.2879</td>\n",
       "      <td>0.75</td>\n",
       "      <td>0.0000</td>\n",
       "      <td>3.0</td>\n",
       "      <td>10.0</td>\n",
       "      <td>13.0</td>\n",
       "    </tr>\n",
       "    <tr>\n",
       "      <th>4</th>\n",
       "      <td>5.0</td>\n",
       "      <td>2011-01-01</td>\n",
       "      <td>1.0</td>\n",
       "      <td>0.0</td>\n",
       "      <td>1.0</td>\n",
       "      <td>4.0</td>\n",
       "      <td>0.0</td>\n",
       "      <td>6.0</td>\n",
       "      <td>0.683053</td>\n",
       "      <td>1.000000</td>\n",
       "      <td>0.24</td>\n",
       "      <td>0.2879</td>\n",
       "      <td>0.75</td>\n",
       "      <td>0.0000</td>\n",
       "      <td>0.0</td>\n",
       "      <td>1.0</td>\n",
       "      <td>1.0</td>\n",
       "    </tr>\n",
       "    <tr>\n",
       "      <th>5</th>\n",
       "      <td>6.0</td>\n",
       "      <td>2011-01-01</td>\n",
       "      <td>1.0</td>\n",
       "      <td>0.0</td>\n",
       "      <td>1.0</td>\n",
       "      <td>5.0</td>\n",
       "      <td>0.0</td>\n",
       "      <td>6.0</td>\n",
       "      <td>0.000000</td>\n",
       "      <td>2.000000</td>\n",
       "      <td>0.24</td>\n",
       "      <td>0.2576</td>\n",
       "      <td>0.75</td>\n",
       "      <td>0.0896</td>\n",
       "      <td>0.0</td>\n",
       "      <td>1.0</td>\n",
       "      <td>1.0</td>\n",
       "    </tr>\n",
       "  </tbody>\n",
       "</table>\n",
       "</div>"
      ],
      "text/plain": [
       "   instant      dteday  season   yr  mnth   hr  holiday  weekday  workingday  \\\n",
       "1      2.0  2011-01-01     1.0  0.0   1.0  1.0      0.0      6.0    0.000000   \n",
       "2      3.0  2011-01-01     1.0  0.0   1.0  2.0      0.0      6.0    0.000000   \n",
       "3      4.0  2011-01-01     1.0  0.0   1.0  3.0      0.0      6.0    0.000000   \n",
       "4      5.0  2011-01-01     1.0  0.0   1.0  4.0      0.0      6.0    0.683053   \n",
       "5      6.0  2011-01-01     1.0  0.0   1.0  5.0      0.0      6.0    0.000000   \n",
       "\n",
       "   weathersit  temp   atemp   hum  windspeed  casual  registered   cnt  \n",
       "1    1.422432  0.22  0.2727  0.80     0.0000     8.0        32.0  40.0  \n",
       "2    1.000000  0.22  0.2727  0.80     0.0000     5.0        27.0  32.0  \n",
       "3    1.000000  0.24  0.2879  0.75     0.0000     3.0        10.0  13.0  \n",
       "4    1.000000  0.24  0.2879  0.75     0.0000     0.0         1.0   1.0  \n",
       "5    2.000000  0.24  0.2576  0.75     0.0896     0.0         1.0   1.0  "
      ]
     },
     "execution_count": 11,
     "metadata": {},
     "output_type": "execute_result"
    }
   ],
   "source": [
    "#tratando os dados nulos\n",
    "dataset.fillna(dataset.mean(), inplace=True) #substitui os dados que estão como NAN pela média dos valores na coluna\n",
    "dataset.head()"
   ]
  },
  {
   "cell_type": "code",
   "execution_count": 12,
   "metadata": {},
   "outputs": [
    {
     "data": {
      "text/plain": [
       "array([1.        , 1.        , 1.        , ..., 1.        , 1.        ,\n",
       "       2.50792973])"
      ]
     },
     "execution_count": 12,
     "metadata": {},
     "output_type": "execute_result"
    }
   ],
   "source": [
    "season = dataset.iloc[:, 2].values\n",
    "season"
   ]
  },
  {
   "cell_type": "code",
   "execution_count": 16,
   "metadata": {},
   "outputs": [],
   "source": [
    "label_encoder_previsores = LabelEncoder()\n",
    "dataset['season']= label_encoder_previsores.fit_transform(season)"
   ]
  },
  {
   "cell_type": "code",
   "execution_count": 17,
   "metadata": {},
   "outputs": [
    {
     "data": {
      "text/plain": [
       "array([0, 2, 1, 3, 4])"
      ]
     },
     "execution_count": 17,
     "metadata": {},
     "output_type": "execute_result"
    }
   ],
   "source": [
    "dataset['season'].unique()"
   ]
  },
  {
   "cell_type": "code",
   "execution_count": 18,
   "metadata": {},
   "outputs": [
    {
     "data": {
      "text/html": [
       "<div>\n",
       "<style scoped>\n",
       "    .dataframe tbody tr th:only-of-type {\n",
       "        vertical-align: middle;\n",
       "    }\n",
       "\n",
       "    .dataframe tbody tr th {\n",
       "        vertical-align: top;\n",
       "    }\n",
       "\n",
       "    .dataframe thead th {\n",
       "        text-align: right;\n",
       "    }\n",
       "</style>\n",
       "<table border=\"1\" class=\"dataframe\">\n",
       "  <thead>\n",
       "    <tr style=\"text-align: right;\">\n",
       "      <th></th>\n",
       "      <th>instant</th>\n",
       "      <th>season</th>\n",
       "      <th>yr</th>\n",
       "      <th>mnth</th>\n",
       "      <th>hr</th>\n",
       "      <th>holiday</th>\n",
       "      <th>weekday</th>\n",
       "      <th>workingday</th>\n",
       "      <th>weathersit</th>\n",
       "      <th>temp</th>\n",
       "      <th>atemp</th>\n",
       "      <th>hum</th>\n",
       "      <th>windspeed</th>\n",
       "      <th>casual</th>\n",
       "      <th>registered</th>\n",
       "      <th>cnt</th>\n",
       "    </tr>\n",
       "  </thead>\n",
       "  <tbody>\n",
       "    <tr>\n",
       "      <th>count</th>\n",
       "      <td>15641.000000</td>\n",
       "      <td>15641.000000</td>\n",
       "      <td>15641.000000</td>\n",
       "      <td>15641.000000</td>\n",
       "      <td>15641.000000</td>\n",
       "      <td>15641.000000</td>\n",
       "      <td>15641.000000</td>\n",
       "      <td>15641.000000</td>\n",
       "      <td>15641.000000</td>\n",
       "      <td>15641.000000</td>\n",
       "      <td>15641.000000</td>\n",
       "      <td>15641.000000</td>\n",
       "      <td>15641.000000</td>\n",
       "      <td>15641.000000</td>\n",
       "      <td>15641.000000</td>\n",
       "      <td>15641.000000</td>\n",
       "    </tr>\n",
       "    <tr>\n",
       "      <th>mean</th>\n",
       "      <td>8679.717496</td>\n",
       "      <td>2.011636</td>\n",
       "      <td>0.501563</td>\n",
       "      <td>6.542810</td>\n",
       "      <td>11.486779</td>\n",
       "      <td>0.027707</td>\n",
       "      <td>3.006535</td>\n",
       "      <td>0.683053</td>\n",
       "      <td>1.422432</td>\n",
       "      <td>0.496926</td>\n",
       "      <td>0.476055</td>\n",
       "      <td>0.627357</td>\n",
       "      <td>0.189552</td>\n",
       "      <td>35.416317</td>\n",
       "      <td>153.280625</td>\n",
       "      <td>189.165850</td>\n",
       "    </tr>\n",
       "    <tr>\n",
       "      <th>std</th>\n",
       "      <td>4755.683170</td>\n",
       "      <td>1.491748</td>\n",
       "      <td>0.474339</td>\n",
       "      <td>3.265233</td>\n",
       "      <td>6.558143</td>\n",
       "      <td>0.155709</td>\n",
       "      <td>1.900118</td>\n",
       "      <td>0.441739</td>\n",
       "      <td>0.606170</td>\n",
       "      <td>0.182997</td>\n",
       "      <td>0.163953</td>\n",
       "      <td>0.182921</td>\n",
       "      <td>0.116053</td>\n",
       "      <td>46.258180</td>\n",
       "      <td>143.619010</td>\n",
       "      <td>171.936005</td>\n",
       "    </tr>\n",
       "    <tr>\n",
       "      <th>min</th>\n",
       "      <td>2.000000</td>\n",
       "      <td>0.000000</td>\n",
       "      <td>0.000000</td>\n",
       "      <td>1.000000</td>\n",
       "      <td>0.000000</td>\n",
       "      <td>0.000000</td>\n",
       "      <td>0.000000</td>\n",
       "      <td>0.000000</td>\n",
       "      <td>1.000000</td>\n",
       "      <td>0.020000</td>\n",
       "      <td>0.000000</td>\n",
       "      <td>0.000000</td>\n",
       "      <td>0.000000</td>\n",
       "      <td>0.000000</td>\n",
       "      <td>0.000000</td>\n",
       "      <td>1.000000</td>\n",
       "    </tr>\n",
       "    <tr>\n",
       "      <th>25%</th>\n",
       "      <td>4816.000000</td>\n",
       "      <td>1.000000</td>\n",
       "      <td>0.000000</td>\n",
       "      <td>4.000000</td>\n",
       "      <td>6.000000</td>\n",
       "      <td>0.000000</td>\n",
       "      <td>1.000000</td>\n",
       "      <td>0.000000</td>\n",
       "      <td>1.000000</td>\n",
       "      <td>0.360000</td>\n",
       "      <td>0.348500</td>\n",
       "      <td>0.490000</td>\n",
       "      <td>0.104500</td>\n",
       "      <td>5.000000</td>\n",
       "      <td>42.000000</td>\n",
       "      <td>50.000000</td>\n",
       "    </tr>\n",
       "    <tr>\n",
       "      <th>50%</th>\n",
       "      <td>8679.717496</td>\n",
       "      <td>2.000000</td>\n",
       "      <td>0.501563</td>\n",
       "      <td>6.542810</td>\n",
       "      <td>11.486779</td>\n",
       "      <td>0.000000</td>\n",
       "      <td>3.000000</td>\n",
       "      <td>1.000000</td>\n",
       "      <td>1.000000</td>\n",
       "      <td>0.496926</td>\n",
       "      <td>0.476055</td>\n",
       "      <td>0.627357</td>\n",
       "      <td>0.189552</td>\n",
       "      <td>21.000000</td>\n",
       "      <td>135.000000</td>\n",
       "      <td>168.000000</td>\n",
       "    </tr>\n",
       "    <tr>\n",
       "      <th>75%</th>\n",
       "      <td>12556.000000</td>\n",
       "      <td>3.000000</td>\n",
       "      <td>1.000000</td>\n",
       "      <td>9.000000</td>\n",
       "      <td>17.000000</td>\n",
       "      <td>0.000000</td>\n",
       "      <td>5.000000</td>\n",
       "      <td>1.000000</td>\n",
       "      <td>2.000000</td>\n",
       "      <td>0.640000</td>\n",
       "      <td>0.606100</td>\n",
       "      <td>0.770000</td>\n",
       "      <td>0.253700</td>\n",
       "      <td>43.000000</td>\n",
       "      <td>204.000000</td>\n",
       "      <td>259.000000</td>\n",
       "    </tr>\n",
       "    <tr>\n",
       "      <th>max</th>\n",
       "      <td>17376.000000</td>\n",
       "      <td>4.000000</td>\n",
       "      <td>1.000000</td>\n",
       "      <td>12.000000</td>\n",
       "      <td>23.000000</td>\n",
       "      <td>1.000000</td>\n",
       "      <td>6.000000</td>\n",
       "      <td>1.000000</td>\n",
       "      <td>4.000000</td>\n",
       "      <td>1.000000</td>\n",
       "      <td>1.000000</td>\n",
       "      <td>1.000000</td>\n",
       "      <td>0.850700</td>\n",
       "      <td>367.000000</td>\n",
       "      <td>886.000000</td>\n",
       "      <td>977.000000</td>\n",
       "    </tr>\n",
       "  </tbody>\n",
       "</table>\n",
       "</div>"
      ],
      "text/plain": [
       "            instant        season            yr          mnth            hr  \\\n",
       "count  15641.000000  15641.000000  15641.000000  15641.000000  15641.000000   \n",
       "mean    8679.717496      2.011636      0.501563      6.542810     11.486779   \n",
       "std     4755.683170      1.491748      0.474339      3.265233      6.558143   \n",
       "min        2.000000      0.000000      0.000000      1.000000      0.000000   \n",
       "25%     4816.000000      1.000000      0.000000      4.000000      6.000000   \n",
       "50%     8679.717496      2.000000      0.501563      6.542810     11.486779   \n",
       "75%    12556.000000      3.000000      1.000000      9.000000     17.000000   \n",
       "max    17376.000000      4.000000      1.000000     12.000000     23.000000   \n",
       "\n",
       "            holiday       weekday    workingday    weathersit          temp  \\\n",
       "count  15641.000000  15641.000000  15641.000000  15641.000000  15641.000000   \n",
       "mean       0.027707      3.006535      0.683053      1.422432      0.496926   \n",
       "std        0.155709      1.900118      0.441739      0.606170      0.182997   \n",
       "min        0.000000      0.000000      0.000000      1.000000      0.020000   \n",
       "25%        0.000000      1.000000      0.000000      1.000000      0.360000   \n",
       "50%        0.000000      3.000000      1.000000      1.000000      0.496926   \n",
       "75%        0.000000      5.000000      1.000000      2.000000      0.640000   \n",
       "max        1.000000      6.000000      1.000000      4.000000      1.000000   \n",
       "\n",
       "              atemp           hum     windspeed        casual    registered  \\\n",
       "count  15641.000000  15641.000000  15641.000000  15641.000000  15641.000000   \n",
       "mean       0.476055      0.627357      0.189552     35.416317    153.280625   \n",
       "std        0.163953      0.182921      0.116053     46.258180    143.619010   \n",
       "min        0.000000      0.000000      0.000000      0.000000      0.000000   \n",
       "25%        0.348500      0.490000      0.104500      5.000000     42.000000   \n",
       "50%        0.476055      0.627357      0.189552     21.000000    135.000000   \n",
       "75%        0.606100      0.770000      0.253700     43.000000    204.000000   \n",
       "max        1.000000      1.000000      0.850700    367.000000    886.000000   \n",
       "\n",
       "                cnt  \n",
       "count  15641.000000  \n",
       "mean     189.165850  \n",
       "std      171.936005  \n",
       "min        1.000000  \n",
       "25%       50.000000  \n",
       "50%      168.000000  \n",
       "75%      259.000000  \n",
       "max      977.000000  "
      ]
     },
     "execution_count": 18,
     "metadata": {},
     "output_type": "execute_result"
    }
   ],
   "source": [
    "dataset.describe()"
   ]
  },
  {
   "cell_type": "markdown",
   "metadata": {
    "colab_type": "text",
    "id": "3uF0vR4EV3Vo"
   },
   "source": [
    "**Preparando os dados**"
   ]
  },
  {
   "cell_type": "code",
   "execution_count": 19,
   "metadata": {
    "colab": {},
    "colab_type": "code",
    "id": "NJZucbGrVSrh"
   },
   "outputs": [],
   "source": [
    "dataset_to_array = np.array(dataset) #transforma o dataframe em array para facilitar a escolha dos dados a serem utilizados"
   ]
  },
  {
   "cell_type": "code",
   "execution_count": 20,
   "metadata": {},
   "outputs": [
    {
     "data": {
      "text/plain": [
       "array([[2.0, '2011-01-01', 0, ..., 0.0, 8.0, 32.0],\n",
       "       [3.0, '2011-01-01', 0, ..., 0.0, 5.0, 27.0],\n",
       "       [4.0, '2011-01-01', 0, ..., 0.0, 3.0, 10.0],\n",
       "       ...,\n",
       "       [17376.0, '2012-12-31', 0, ..., 0.1642, 35.416317248241064,\n",
       "        153.280624556423],\n",
       "       [8679.717496443813, '2012-12-31', 0, ..., 0.1343, 13.0, 48.0],\n",
       "       [8679.717496443813, '2012-12-31', 2, ..., 0.1343, 12.0, 37.0]],\n",
       "      dtype=object)"
      ]
     },
     "execution_count": 20,
     "metadata": {},
     "output_type": "execute_result"
    }
   ],
   "source": [
    "previsores = dataset_to_array[:, 0:16]\n",
    "previsores"
   ]
  },
  {
   "cell_type": "code",
   "execution_count": 21,
   "metadata": {
    "colab": {
     "base_uri": "https://localhost:8080/",
     "height": 504
    },
    "colab_type": "code",
    "executionInfo": {
     "elapsed": 554,
     "status": "ok",
     "timestamp": 1578686127900,
     "user": {
      "displayName": "Tulio Philipe",
      "photoUrl": "https://lh3.googleusercontent.com/a-/AAuE7mA1ZGOGyoLKRxvjkdb3Nahe1kQsDTygha29jmC4YA=s64",
      "userId": "06907869093485551957"
     },
     "user_tz": 180
    },
    "id": "_Ktlp6O_WDbi",
    "outputId": "5dbbab8f-ee62-4c54-accd-7a410a72deb4"
   },
   "outputs": [
    {
     "data": {
      "text/plain": [
       "array([40, 32, 13, ..., 89, 61, 49])"
      ]
     },
     "execution_count": 21,
     "metadata": {},
     "output_type": "execute_result"
    }
   ],
   "source": [
    "target = dataset_to_array[:,16] # esse é o vetor de saída (target)\n",
    "target= target.astype('int') #indica o tipo de dados\n",
    "#target[target>0] = 1 # 0 para o coração saudável e 1 para problema detectado\n",
    "target"
   ]
  },
  {
   "cell_type": "code",
   "execution_count": 22,
   "metadata": {},
   "outputs": [],
   "source": [
    "dataset['dteday'] = pd.to_datetime(dataset.iloc[:, 1].values)"
   ]
  },
  {
   "cell_type": "code",
   "execution_count": 24,
   "metadata": {},
   "outputs": [
    {
     "data": {
      "text/plain": [
       "numpy.datetime64('2012-12-31T00:00:00.000000000')"
      ]
     },
     "execution_count": 24,
     "metadata": {},
     "output_type": "execute_result"
    }
   ],
   "source": [
    "dates = dataset.iloc[:, 1].values\n",
    "now = pd.to_datetime('2014-12-31')\n",
    "youngest = max(dt for dt in dates if dt < now)\n",
    "youngest"
   ]
  },
  {
   "cell_type": "code",
   "execution_count": 26,
   "metadata": {},
   "outputs": [
    {
     "data": {
      "text/html": [
       "<div>\n",
       "<style scoped>\n",
       "    .dataframe tbody tr th:only-of-type {\n",
       "        vertical-align: middle;\n",
       "    }\n",
       "\n",
       "    .dataframe tbody tr th {\n",
       "        vertical-align: top;\n",
       "    }\n",
       "\n",
       "    .dataframe thead th {\n",
       "        text-align: right;\n",
       "    }\n",
       "</style>\n",
       "<table border=\"1\" class=\"dataframe\">\n",
       "  <thead>\n",
       "    <tr style=\"text-align: right;\">\n",
       "      <th></th>\n",
       "      <th>instant</th>\n",
       "      <th>dteday</th>\n",
       "      <th>season</th>\n",
       "      <th>yr</th>\n",
       "      <th>mnth</th>\n",
       "      <th>hr</th>\n",
       "      <th>holiday</th>\n",
       "      <th>weekday</th>\n",
       "      <th>workingday</th>\n",
       "      <th>weathersit</th>\n",
       "      <th>temp</th>\n",
       "      <th>atemp</th>\n",
       "      <th>hum</th>\n",
       "      <th>windspeed</th>\n",
       "      <th>casual</th>\n",
       "      <th>registered</th>\n",
       "      <th>cnt</th>\n",
       "    </tr>\n",
       "  </thead>\n",
       "  <tbody>\n",
       "    <tr>\n",
       "      <th>1</th>\n",
       "      <td>2.0</td>\n",
       "      <td>2011-01-01</td>\n",
       "      <td>0</td>\n",
       "      <td>0.0</td>\n",
       "      <td>1.0</td>\n",
       "      <td>1.0</td>\n",
       "      <td>0.0</td>\n",
       "      <td>6.0</td>\n",
       "      <td>0.000000</td>\n",
       "      <td>1.422432</td>\n",
       "      <td>0.22</td>\n",
       "      <td>0.2727</td>\n",
       "      <td>0.80</td>\n",
       "      <td>0.0000</td>\n",
       "      <td>8.0</td>\n",
       "      <td>32.0</td>\n",
       "      <td>40.0</td>\n",
       "    </tr>\n",
       "    <tr>\n",
       "      <th>2</th>\n",
       "      <td>3.0</td>\n",
       "      <td>2011-01-01</td>\n",
       "      <td>0</td>\n",
       "      <td>0.0</td>\n",
       "      <td>1.0</td>\n",
       "      <td>2.0</td>\n",
       "      <td>0.0</td>\n",
       "      <td>6.0</td>\n",
       "      <td>0.000000</td>\n",
       "      <td>1.000000</td>\n",
       "      <td>0.22</td>\n",
       "      <td>0.2727</td>\n",
       "      <td>0.80</td>\n",
       "      <td>0.0000</td>\n",
       "      <td>5.0</td>\n",
       "      <td>27.0</td>\n",
       "      <td>32.0</td>\n",
       "    </tr>\n",
       "    <tr>\n",
       "      <th>3</th>\n",
       "      <td>4.0</td>\n",
       "      <td>2011-01-01</td>\n",
       "      <td>0</td>\n",
       "      <td>0.0</td>\n",
       "      <td>1.0</td>\n",
       "      <td>3.0</td>\n",
       "      <td>0.0</td>\n",
       "      <td>6.0</td>\n",
       "      <td>0.000000</td>\n",
       "      <td>1.000000</td>\n",
       "      <td>0.24</td>\n",
       "      <td>0.2879</td>\n",
       "      <td>0.75</td>\n",
       "      <td>0.0000</td>\n",
       "      <td>3.0</td>\n",
       "      <td>10.0</td>\n",
       "      <td>13.0</td>\n",
       "    </tr>\n",
       "    <tr>\n",
       "      <th>4</th>\n",
       "      <td>5.0</td>\n",
       "      <td>2011-01-01</td>\n",
       "      <td>0</td>\n",
       "      <td>0.0</td>\n",
       "      <td>1.0</td>\n",
       "      <td>4.0</td>\n",
       "      <td>0.0</td>\n",
       "      <td>6.0</td>\n",
       "      <td>0.683053</td>\n",
       "      <td>1.000000</td>\n",
       "      <td>0.24</td>\n",
       "      <td>0.2879</td>\n",
       "      <td>0.75</td>\n",
       "      <td>0.0000</td>\n",
       "      <td>0.0</td>\n",
       "      <td>1.0</td>\n",
       "      <td>1.0</td>\n",
       "    </tr>\n",
       "    <tr>\n",
       "      <th>5</th>\n",
       "      <td>6.0</td>\n",
       "      <td>2011-01-01</td>\n",
       "      <td>0</td>\n",
       "      <td>0.0</td>\n",
       "      <td>1.0</td>\n",
       "      <td>5.0</td>\n",
       "      <td>0.0</td>\n",
       "      <td>6.0</td>\n",
       "      <td>0.000000</td>\n",
       "      <td>2.000000</td>\n",
       "      <td>0.24</td>\n",
       "      <td>0.2576</td>\n",
       "      <td>0.75</td>\n",
       "      <td>0.0896</td>\n",
       "      <td>0.0</td>\n",
       "      <td>1.0</td>\n",
       "      <td>1.0</td>\n",
       "    </tr>\n",
       "  </tbody>\n",
       "</table>\n",
       "</div>"
      ],
      "text/plain": [
       "   instant     dteday  season   yr  mnth   hr  holiday  weekday  workingday  \\\n",
       "1      2.0 2011-01-01       0  0.0   1.0  1.0      0.0      6.0    0.000000   \n",
       "2      3.0 2011-01-01       0  0.0   1.0  2.0      0.0      6.0    0.000000   \n",
       "3      4.0 2011-01-01       0  0.0   1.0  3.0      0.0      6.0    0.000000   \n",
       "4      5.0 2011-01-01       0  0.0   1.0  4.0      0.0      6.0    0.683053   \n",
       "5      6.0 2011-01-01       0  0.0   1.0  5.0      0.0      6.0    0.000000   \n",
       "\n",
       "   weathersit  temp   atemp   hum  windspeed  casual  registered   cnt  \n",
       "1    1.422432  0.22  0.2727  0.80     0.0000     8.0        32.0  40.0  \n",
       "2    1.000000  0.22  0.2727  0.80     0.0000     5.0        27.0  32.0  \n",
       "3    1.000000  0.24  0.2879  0.75     0.0000     3.0        10.0  13.0  \n",
       "4    1.000000  0.24  0.2879  0.75     0.0000     0.0         1.0   1.0  \n",
       "5    2.000000  0.24  0.2576  0.75     0.0896     0.0         1.0   1.0  "
      ]
     },
     "execution_count": 26,
     "metadata": {},
     "output_type": "execute_result"
    }
   ],
   "source": [
    "dataset_aux = dataset\n",
    "dataset_aux.head()"
   ]
  },
  {
   "cell_type": "code",
   "execution_count": 27,
   "metadata": {},
   "outputs": [
    {
     "data": {
      "text/plain": [
       "<matplotlib.axes._subplots.AxesSubplot at 0x7f9bc3473ad0>"
      ]
     },
     "execution_count": 27,
     "metadata": {},
     "output_type": "execute_result"
    },
    {
     "data": {
      "image/png": "[encoded data removed]",
      "text/plain": [
       "<Figure size 432x288 with 1 Axes>"
      ]
     },
     "metadata": {
      "needs_background": "light"
     },
     "output_type": "display_data"
    }
   ],
   "source": [
    "#realizando o boxplot \n",
    "dataset_aux.boxplot(['windspeed'])"
   ]
  },
  {
   "cell_type": "code",
   "execution_count": 28,
   "metadata": {},
   "outputs": [
    {
     "data": {
      "text/html": [
       "<div>\n",
       "<style scoped>\n",
       "    .dataframe tbody tr th:only-of-type {\n",
       "        vertical-align: middle;\n",
       "    }\n",
       "\n",
       "    .dataframe tbody tr th {\n",
       "        vertical-align: top;\n",
       "    }\n",
       "\n",
       "    .dataframe thead th {\n",
       "        text-align: right;\n",
       "    }\n",
       "</style>\n",
       "<table border=\"1\" class=\"dataframe\">\n",
       "  <thead>\n",
       "    <tr style=\"text-align: right;\">\n",
       "      <th></th>\n",
       "      <th>instant</th>\n",
       "      <th>dteday</th>\n",
       "      <th>season</th>\n",
       "      <th>yr</th>\n",
       "      <th>mnth</th>\n",
       "      <th>hr</th>\n",
       "      <th>holiday</th>\n",
       "      <th>weekday</th>\n",
       "      <th>workingday</th>\n",
       "      <th>weathersit</th>\n",
       "      <th>temp</th>\n",
       "      <th>atemp</th>\n",
       "      <th>hum</th>\n",
       "      <th>windspeed</th>\n",
       "      <th>casual</th>\n",
       "      <th>registered</th>\n",
       "      <th>cnt</th>\n",
       "    </tr>\n",
       "  </thead>\n",
       "  <tbody>\n",
       "    <tr>\n",
       "      <th>1</th>\n",
       "      <td>2.0</td>\n",
       "      <td>2011-01-01</td>\n",
       "      <td>0</td>\n",
       "      <td>0.0</td>\n",
       "      <td>1.0</td>\n",
       "      <td>1.0</td>\n",
       "      <td>0.0</td>\n",
       "      <td>6.0</td>\n",
       "      <td>0.000000</td>\n",
       "      <td>1.422432</td>\n",
       "      <td>0.22</td>\n",
       "      <td>0.2727</td>\n",
       "      <td>0.80</td>\n",
       "      <td>0.0000</td>\n",
       "      <td>8.0</td>\n",
       "      <td>32.0</td>\n",
       "      <td>40.0</td>\n",
       "    </tr>\n",
       "    <tr>\n",
       "      <th>2</th>\n",
       "      <td>3.0</td>\n",
       "      <td>2011-01-01</td>\n",
       "      <td>0</td>\n",
       "      <td>0.0</td>\n",
       "      <td>1.0</td>\n",
       "      <td>2.0</td>\n",
       "      <td>0.0</td>\n",
       "      <td>6.0</td>\n",
       "      <td>0.000000</td>\n",
       "      <td>1.000000</td>\n",
       "      <td>0.22</td>\n",
       "      <td>0.2727</td>\n",
       "      <td>0.80</td>\n",
       "      <td>0.0000</td>\n",
       "      <td>5.0</td>\n",
       "      <td>27.0</td>\n",
       "      <td>32.0</td>\n",
       "    </tr>\n",
       "    <tr>\n",
       "      <th>3</th>\n",
       "      <td>4.0</td>\n",
       "      <td>2011-01-01</td>\n",
       "      <td>0</td>\n",
       "      <td>0.0</td>\n",
       "      <td>1.0</td>\n",
       "      <td>3.0</td>\n",
       "      <td>0.0</td>\n",
       "      <td>6.0</td>\n",
       "      <td>0.000000</td>\n",
       "      <td>1.000000</td>\n",
       "      <td>0.24</td>\n",
       "      <td>0.2879</td>\n",
       "      <td>0.75</td>\n",
       "      <td>0.0000</td>\n",
       "      <td>3.0</td>\n",
       "      <td>10.0</td>\n",
       "      <td>13.0</td>\n",
       "    </tr>\n",
       "    <tr>\n",
       "      <th>4</th>\n",
       "      <td>5.0</td>\n",
       "      <td>2011-01-01</td>\n",
       "      <td>0</td>\n",
       "      <td>0.0</td>\n",
       "      <td>1.0</td>\n",
       "      <td>4.0</td>\n",
       "      <td>0.0</td>\n",
       "      <td>6.0</td>\n",
       "      <td>0.683053</td>\n",
       "      <td>1.000000</td>\n",
       "      <td>0.24</td>\n",
       "      <td>0.2879</td>\n",
       "      <td>0.75</td>\n",
       "      <td>0.0000</td>\n",
       "      <td>0.0</td>\n",
       "      <td>1.0</td>\n",
       "      <td>1.0</td>\n",
       "    </tr>\n",
       "    <tr>\n",
       "      <th>5</th>\n",
       "      <td>6.0</td>\n",
       "      <td>2011-01-01</td>\n",
       "      <td>0</td>\n",
       "      <td>0.0</td>\n",
       "      <td>1.0</td>\n",
       "      <td>5.0</td>\n",
       "      <td>0.0</td>\n",
       "      <td>6.0</td>\n",
       "      <td>0.000000</td>\n",
       "      <td>2.000000</td>\n",
       "      <td>0.24</td>\n",
       "      <td>0.2576</td>\n",
       "      <td>0.75</td>\n",
       "      <td>0.0896</td>\n",
       "      <td>0.0</td>\n",
       "      <td>1.0</td>\n",
       "      <td>1.0</td>\n",
       "    </tr>\n",
       "  </tbody>\n",
       "</table>\n",
       "</div>"
      ],
      "text/plain": [
       "   instant     dteday  season   yr  mnth   hr  holiday  weekday  workingday  \\\n",
       "1      2.0 2011-01-01       0  0.0   1.0  1.0      0.0      6.0    0.000000   \n",
       "2      3.0 2011-01-01       0  0.0   1.0  2.0      0.0      6.0    0.000000   \n",
       "3      4.0 2011-01-01       0  0.0   1.0  3.0      0.0      6.0    0.000000   \n",
       "4      5.0 2011-01-01       0  0.0   1.0  4.0      0.0      6.0    0.683053   \n",
       "5      6.0 2011-01-01       0  0.0   1.0  5.0      0.0      6.0    0.000000   \n",
       "\n",
       "   weathersit  temp   atemp   hum  windspeed  casual  registered   cnt  \n",
       "1    1.422432  0.22  0.2727  0.80     0.0000     8.0        32.0  40.0  \n",
       "2    1.000000  0.22  0.2727  0.80     0.0000     5.0        27.0  32.0  \n",
       "3    1.000000  0.24  0.2879  0.75     0.0000     3.0        10.0  13.0  \n",
       "4    1.000000  0.24  0.2879  0.75     0.0000     0.0         1.0   1.0  \n",
       "5    2.000000  0.24  0.2576  0.75     0.0896     0.0         1.0   1.0  "
      ]
     },
     "execution_count": 28,
     "metadata": {},
     "output_type": "execute_result"
    }
   ],
   "source": [
    "dataset_to_train = dataset\n",
    "dataset.head()"
   ]
  },
  {
   "cell_type": "markdown",
   "metadata": {
    "colab_type": "text",
    "id": "SgCb0sRtXrrp"
   },
   "source": [
    "**Iniciando a previsão**"
   ]
  },
  {
   "cell_type": "code",
   "execution_count": 29,
   "metadata": {
    "colab": {},
    "colab_type": "code",
    "id": "t8ayYC7WVzp8"
   },
   "outputs": [],
   "source": [
    "dataset_to_train = np.column_stack((\n",
    "    dataset_to_train.iloc[:, 2],\n",
    "    dataset_to_train.iloc[:, 10],\n",
    "    dataset_to_train.iloc[:, 11],\n",
    "    dataset_to_train.iloc[:, 12],\n",
    "    dataset_to_train.iloc[:, 13]\n",
    "))\n",
    "# Retirando algumas colunas \n",
    "#drop = [\"instant\", \"dteday\", \"yr\", \"mnth\", \"hr\", \"holiday\", \"weekday\",\"workingday\",\"weathersit\",\n",
    " #       \"casual\",\"registered\",\"cnt\"]\n",
    "#dataset_to_train.drop(drop, inplace=True, axis=1)\n",
    "\n",
    "#Salvando uma cópia do dataset para aplicar o hotencoder\n",
    "#dataset_to_train2 = dataset_to_train.copy(deep=True)"
   ]
  },
  {
   "cell_type": "code",
   "execution_count": 30,
   "metadata": {},
   "outputs": [
    {
     "data": {
      "text/plain": [
       "array([[0.        , 0.22      , 0.2727    , 0.8       , 0.        ],\n",
       "       [0.        , 0.22      , 0.2727    , 0.8       , 0.        ],\n",
       "       [0.        , 0.24      , 0.2879    , 0.75      , 0.        ],\n",
       "       ...,\n",
       "       [0.        , 0.26      , 0.2576    , 0.6       , 0.1642    ],\n",
       "       [0.        , 0.26      , 0.2727    , 0.56      , 0.1343    ],\n",
       "       [2.        , 0.49692592, 0.2727    , 0.65      , 0.1343    ]])"
      ]
     },
     "execution_count": 30,
     "metadata": {},
     "output_type": "execute_result"
    }
   ],
   "source": [
    "dataset_to_train"
   ]
  },
  {
   "cell_type": "code",
   "execution_count": 31,
   "metadata": {
    "colab": {
     "base_uri": "https://localhost:8080/",
     "height": 34
    },
    "colab_type": "code",
    "executionInfo": {
     "elapsed": 528,
     "status": "ok",
     "timestamp": 1578686306425,
     "user": {
      "displayName": "Tulio Philipe",
      "photoUrl": "https://lh3.googleusercontent.com/a-/AAuE7mA1ZGOGyoLKRxvjkdb3Nahe1kQsDTygha29jmC4YA=s64",
      "userId": "06907869093485551957"
     },
     "user_tz": 180
    },
    "id": "A4lMZl8eZcqt",
    "outputId": "d247c56f-0eb3-4143-fb18-aa9d1e49d8de"
   },
   "outputs": [
    {
     "data": {
      "text/plain": [
       "(15641, 5)"
      ]
     },
     "execution_count": 31,
     "metadata": {},
     "output_type": "execute_result"
    }
   ],
   "source": [
    "dataset_to_train.shape"
   ]
  },
  {
   "cell_type": "code",
   "execution_count": 32,
   "metadata": {
    "colab": {},
    "colab_type": "code",
    "id": "k4LBysQaZiFY"
   },
   "outputs": [],
   "source": [
    "#encontrando os dados para treinamento e teste\n",
    "X_train, X_test, y_train, y_test = train_test_split(dataset_to_train, target, random_state = 2000)"
   ]
  },
  {
   "cell_type": "code",
   "execution_count": 33,
   "metadata": {
    "colab": {},
    "colab_type": "code",
    "id": "PjZag22BZuu3"
   },
   "outputs": [],
   "source": [
    "#cria o objeto SVM\n",
    "modelSVM = SVC(kernel = 'linear') #escolha do kernel polinomial"
   ]
  },
  {
   "cell_type": "code",
   "execution_count": 34,
   "metadata": {
    "colab": {
     "base_uri": "https://localhost:8080/",
     "height": 84
    },
    "colab_type": "code",
    "executionInfo": {
     "elapsed": 12382,
     "status": "ok",
     "timestamp": 1578686403185,
     "user": {
      "displayName": "Tulio Philipe",
      "photoUrl": "https://lh3.googleusercontent.com/a-/AAuE7mA1ZGOGyoLKRxvjkdb3Nahe1kQsDTygha29jmC4YA=s64",
      "userId": "06907869093485551957"
     },
     "user_tz": 180
    },
    "id": "M5F5UO3bZ6Z-",
    "outputId": "68527e04-47f2-4d6b-8ccd-0c196ecdc640"
   },
   "outputs": [
    {
     "data": {
      "text/plain": [
       "SVC(C=1.0, break_ties=False, cache_size=200, class_weight=None, coef0=0.0,\n",
       "    decision_function_shape='ovr', degree=3, gamma='scale', kernel='linear',\n",
       "    max_iter=-1, probability=False, random_state=None, shrinking=True,\n",
       "    tol=0.001, verbose=False)"
      ]
     },
     "execution_count": 34,
     "metadata": {},
     "output_type": "execute_result"
    }
   ],
   "source": [
    "#aplica o treinamento ao modelo\n",
    "modelSVM.fit(X_train, y_train)\n"
   ]
  },
  {
   "cell_type": "markdown",
   "metadata": {
    "colab_type": "text",
    "id": "cwO-j2FAatoD"
   },
   "source": [
    "**Analisando a performance do modelo**"
   ]
  },
  {
   "cell_type": "code",
   "execution_count": 35,
   "metadata": {
    "colab": {},
    "colab_type": "code",
    "id": "fCY_3D4Daysw"
   },
   "outputs": [],
   "source": [
    "previsao = modelSVM.predict(X_test) #aplica o modelo para os dados de teste"
   ]
  },
  {
   "cell_type": "code",
   "execution_count": 36,
   "metadata": {
    "colab": {
     "base_uri": "https://localhost:8080/",
     "height": 67
    },
    "colab_type": "code",
    "executionInfo": {
     "elapsed": 518,
     "status": "ok",
     "timestamp": 1578686447778,
     "user": {
      "displayName": "Tulio Philipe",
      "photoUrl": "https://lh3.googleusercontent.com/a-/AAuE7mA1ZGOGyoLKRxvjkdb3Nahe1kQsDTygha29jmC4YA=s64",
      "userId": "06907869093485551957"
     },
     "user_tz": 180
    },
    "id": "bThfTJz2a9OB",
    "outputId": "7a75c21a-49bc-4886-9a77-fb9960119654"
   },
   "outputs": [
    {
     "name": "stdout",
     "output_type": "stream",
     "text": [
      "Acuracia utilizando o SVM : 0.0989516747634876 \n",
      "Em porcentagem :  10.0 %\n",
      "\n"
     ]
    }
   ],
   "source": [
    "#encontra a acuracia do modelo de previsão utilizando o SVM \n",
    "accuracia = accuracy_score(y_test, previsao)\n",
    "print (\"Acuracia utilizando o SVM :\" , accuracia , \"\\nEm porcentagem : \", round(accuracia*100) , \"%\\n\")"
   ]
  },
  {
   "cell_type": "code",
   "execution_count": 37,
   "metadata": {
    "colab": {
     "base_uri": "https://localhost:8080/",
     "height": 445
    },
    "colab_type": "code",
    "executionInfo": {
     "elapsed": 772,
     "status": "ok",
     "timestamp": 1578686458893,
     "user": {
      "displayName": "Tulio Philipe",
      "photoUrl": "https://lh3.googleusercontent.com/a-/AAuE7mA1ZGOGyoLKRxvjkdb3Nahe1kQsDTygha29jmC4YA=s64",
      "userId": "06907869093485551957"
     },
     "user_tz": 180
    },
    "id": "A0sTVqrCbcrt",
    "outputId": "d7e73534-d7b6-42b6-8b60-ee8f093fe717"
   },
   "outputs": [
    {
     "data": {
      "text/plain": [
       "array([[0, 0, 0, ..., 0, 0, 0],\n",
       "       [0, 0, 0, ..., 0, 0, 0],\n",
       "       [0, 0, 0, ..., 0, 0, 0],\n",
       "       ...,\n",
       "       [0, 0, 0, ..., 0, 0, 0],\n",
       "       [0, 0, 0, ..., 0, 0, 0],\n",
       "       [0, 0, 0, ..., 0, 0, 0]])"
      ]
     },
     "execution_count": 37,
     "metadata": {},
     "output_type": "execute_result"
    }
   ],
   "source": [
    "#criando a matriz de confusão\n",
    "import pandas as pd\n",
    "import seaborn as sn\n",
    "import matplotlib.pyplot as plt\n",
    "\n",
    "cm = confusion_matrix(y_test, previsao) #gera a matriz de confusão\n",
    "#df_cm = pd.DataFrame(cm, index = [i for i in \"01234\"],columns = [i for i in \"01234\"]) #cria o df com as classes\n",
    "#plt.figure(figsize = (10,7)) #indica o tamanho da figura \n",
    "#sn.heatmap(cm, annot=True) #plota a figura\n",
    "cm"
   ]
  },
  {
   "cell_type": "markdown",
   "metadata": {},
   "source": [
    "**Regressao com 'hum' como independente**"
   ]
  },
  {
   "cell_type": "code",
   "execution_count": 38,
   "metadata": {
    "colab": {},
    "colab_type": "code",
    "id": "8jareMaWUE_b"
   },
   "outputs": [],
   "source": [
    "#realizando a análise de regressão\n",
    "x=dataset[\"hum\"].values  #variável independente \n",
    "Y=target #variável dependente "
   ]
  },
  {
   "cell_type": "code",
   "execution_count": 39,
   "metadata": {},
   "outputs": [],
   "source": [
    "#importa o modelo de regressão linear univariada\n",
    "from sklearn.linear_model import LinearRegression"
   ]
  },
  {
   "cell_type": "code",
   "execution_count": 40,
   "metadata": {},
   "outputs": [],
   "source": [
    "#Realiza a construção do modelo de regressão\n",
    "reg= LinearRegression()\n",
    "x_Reshaped=x.reshape((-1, 1)) #coloca os dados no formato 2D\n",
    "regressao= reg.fit (x_Reshaped,Y) # encontra os coeficientes (realiza a regressão)"
   ]
  },
  {
   "cell_type": "code",
   "execution_count": 41,
   "metadata": {},
   "outputs": [],
   "source": [
    "#realiza a previsão\n",
    "previsao=reg.predict(x_Reshaped)"
   ]
  },
  {
   "cell_type": "code",
   "execution_count": 42,
   "metadata": {
    "colab": {
     "base_uri": "https://localhost:8080/",
     "height": 504
    },
    "colab_type": "code",
    "executionInfo": {
     "elapsed": 507,
     "status": "ok",
     "timestamp": 1578686535956,
     "user": {
      "displayName": "Tulio Philipe",
      "photoUrl": "https://lh3.googleusercontent.com/a-/AAuE7mA1ZGOGyoLKRxvjkdb3Nahe1kQsDTygha29jmC4YA=s64",
      "userId": "06907869093485551957"
     },
     "user_tz": 180
    },
    "id": "IZam65HIGEjc",
    "outputId": "13a21926-57cd-4e50-c3a3-ef0fc07071e7"
   },
   "outputs": [],
   "source": [
    "#análise do modelo\n",
    "from sklearn.metrics import r2_score #método para o cálculo do R2 (coeficiente de determinação)"
   ]
  },
  {
   "cell_type": "code",
   "execution_count": 43,
   "metadata": {
    "colab": {},
    "colab_type": "code",
    "id": "1t8Rq6j-FIbz"
   },
   "outputs": [
    {
     "name": "stdout",
     "output_type": "stream",
     "text": [
      "Y = [-274.91273162]X 361.6178506680517\n",
      "Coeficiente de Determinação (R2): 0.08554252561862152 \n",
      "Em porcentagem :  9.0 %\n",
      "\n"
     ]
    }
   ],
   "source": [
    "#parâmetros encontrados\n",
    "print('Y = {}X {}'.format(reg.coef_,reg.intercept_))\n",
    "\n",
    "R_2 = r2_score(Y, previsao)  #realiza o cálculo do R2\n",
    "\n",
    "print(\"Coeficiente de Determinação (R2):\", R_2, \"\\nEm porcentagem : \", round(R_2*100) , \"%\\n\")"
   ]
  },
  {
   "cell_type": "markdown",
   "metadata": {},
   "source": [
    "**Regressao com 'casual' como independente**"
   ]
  },
  {
   "cell_type": "code",
   "execution_count": 44,
   "metadata": {},
   "outputs": [],
   "source": [
    "#realizando a análise de regressão\n",
    "x=dataset[\"casual\"].values  #variável independente \n",
    "Y=dataset[\"cnt\"].values #variável dependente "
   ]
  },
  {
   "cell_type": "code",
   "execution_count": 45,
   "metadata": {},
   "outputs": [],
   "source": [
    "#importa o modelo de regressão linear univariada\n",
    "from sklearn.linear_model import LinearRegression"
   ]
  },
  {
   "cell_type": "code",
   "execution_count": 46,
   "metadata": {},
   "outputs": [],
   "source": [
    "#Realiza a construção do modelo de regressão\n",
    "reg= LinearRegression()\n",
    "x_Reshaped=x.reshape((-1, 1)) #coloca os dados no formato 2D\n",
    "regressao= reg.fit (x_Reshaped,Y) # encontra os coeficientes (realiza a regressão)"
   ]
  },
  {
   "cell_type": "code",
   "execution_count": 47,
   "metadata": {},
   "outputs": [],
   "source": [
    "#realiza a previsão\n",
    "previsao=reg.predict(x_Reshaped)"
   ]
  },
  {
   "cell_type": "code",
   "execution_count": 48,
   "metadata": {},
   "outputs": [],
   "source": [
    "#análise do modelo\n",
    "from sklearn.metrics import r2_score #método para o cálculo do R2 (coeficiente de determinação)"
   ]
  },
  {
   "cell_type": "code",
   "execution_count": 49,
   "metadata": {},
   "outputs": [
    {
     "name": "stdout",
     "output_type": "stream",
     "text": [
      "Y = [2.33845958]X 106.34622356006984\n",
      "Coeficiente de Determinação (R2): 0.39582494713443983 \n",
      "Em porcentagem :  40.0 %\n",
      "\n"
     ]
    }
   ],
   "source": [
    "#parâmetros encontrados\n",
    "print('Y = {}X {}'.format(reg.coef_,reg.intercept_))\n",
    "\n",
    "R_2 = r2_score(Y, previsao)  #realiza o cálculo do R2\n",
    "\n",
    "print(\"Coeficiente de Determinação (R2):\", R_2, \"\\nEm porcentagem : \", round(R_2*100) , \"%\\n\")\n"
   ]
  },
  {
   "cell_type": "markdown",
   "metadata": {},
   "source": [
    "**Arvore de decisao como regressao linear com 'casual' como independente**"
   ]
  },
  {
   "cell_type": "code",
   "execution_count": 50,
   "metadata": {},
   "outputs": [],
   "source": [
    "#realizando a análise de regressão\n",
    "x=dataset[\"casual\"].values  #variável independente \n",
    "Y=dataset[\"cnt\"].values #variável dependente "
   ]
  },
  {
   "cell_type": "code",
   "execution_count": 51,
   "metadata": {},
   "outputs": [],
   "source": [
    "modelSVM = SVC(kernel = 'linear')\n"
   ]
  },
  {
   "cell_type": "code",
   "execution_count": 52,
   "metadata": {
    "colab": {
     "base_uri": "https://localhost:8080/",
     "height": 84
    },
    "colab_type": "code",
    "executionInfo": {
     "elapsed": 2715,
     "status": "ok",
     "timestamp": 1578686567388,
     "user": {
      "displayName": "Tulio Philipe",
      "photoUrl": "https://lh3.googleusercontent.com/a-/AAuE7mA1ZGOGyoLKRxvjkdb3Nahe1kQsDTygha29jmC4YA=s64",
      "userId": "06907869093485551957"
     },
     "user_tz": 180
    },
    "id": "sYhYbguwFIb4",
    "outputId": "f7ad69bb-75f8-48d7-a03e-c2e0cadd3600"
   },
   "outputs": [],
   "source": [
    "from sklearn.tree import DecisionTreeRegressor\n",
    "#Realiza a construção do modelo de regressão\n",
    "regr_1 = DecisionTreeRegressor(max_depth=2)\n",
    "x_Reshaped=x.reshape((-1, 1)) #coloca os dados no formato 2D\n",
    "regressao= regr_1.fit(x_Reshaped,Y) # encontra os coeficientes (realiza a regressão)#realiza a previsão\n",
    "previsao=regr_1.predict(x_Reshaped)"
   ]
  },
  {
   "cell_type": "code",
   "execution_count": 53,
   "metadata": {},
   "outputs": [],
   "source": [
    "#análise do modelo\n",
    "from sklearn.metrics import r2_score #método para o cálculo do R2 (coeficiente de determinação)"
   ]
  },
  {
   "cell_type": "code",
   "execution_count": 54,
   "metadata": {},
   "outputs": [
    {
     "name": "stdout",
     "output_type": "stream",
     "text": [
      "Y = [2.33845958]X 106.34622356006984\n",
      "Coeficiente de Determinação (R2): 0.4469841476011053 \n",
      "Em porcentagem :  45.0 %\n",
      "\n"
     ]
    }
   ],
   "source": [
    "#parâmetros encontrados\n",
    "print('Y = {}X {}'.format(reg.coef_,reg.intercept_))\n",
    "\n",
    "R_2 = r2_score(Y, previsao)  #realiza o cálculo do R2\n",
    "\n",
    "print(\"Coeficiente de Determinação (R2):\", R_2, \"\\nEm porcentagem : \", round(R_2*100) , \"%\\n\")\n"
   ]
  },
  {
   "cell_type": "markdown",
   "metadata": {},
   "source": [
    "**Arvore de decisao como regressao linear com 'hum' como independente**"
   ]
  },
  {
   "cell_type": "code",
   "execution_count": 55,
   "metadata": {},
   "outputs": [],
   "source": [
    "#realizando a análise de regressão\n",
    "x=dataset[\"hum\"].values  #variável independente \n",
    "Y=dataset[\"cnt\"].values #variável dependente "
   ]
  },
  {
   "cell_type": "code",
   "execution_count": 56,
   "metadata": {},
   "outputs": [],
   "source": [
    "modelSVM = SVC(kernel = 'linear')\n"
   ]
  },
  {
   "cell_type": "code",
   "execution_count": 57,
   "metadata": {},
   "outputs": [],
   "source": [
    "from sklearn.tree import DecisionTreeRegressor\n",
    "#Realiza a construção do modelo de regressão\n",
    "regr_1 = DecisionTreeRegressor(max_depth=2)\n",
    "x_Reshaped=x.reshape((-1, 1)) #coloca os dados no formato 2D\n",
    "regressao= regr_1.fit(x_Reshaped,Y) # encontra os coeficientes (realiza a regressão)#realiza a previsão\n",
    "previsao=regr_1.predict(x_Reshaped)"
   ]
  },
  {
   "cell_type": "code",
   "execution_count": 58,
   "metadata": {},
   "outputs": [],
   "source": [
    "#análise do modelo\n",
    "from sklearn.metrics import r2_score #método para o cálculo do R2 (coeficiente de determinação)"
   ]
  },
  {
   "cell_type": "code",
   "execution_count": 59,
   "metadata": {},
   "outputs": [
    {
     "name": "stdout",
     "output_type": "stream",
     "text": [
      "Y = [2.33845958]X 106.34622356006984\n",
      "Coeficiente de Determinação (R2): 0.0878784093107734 \n",
      "Em porcentagem :  9.0 %\n",
      "\n"
     ]
    }
   ],
   "source": [
    "#parâmetros encontrados\n",
    "print('Y = {}X {}'.format(reg.coef_,reg.intercept_))\n",
    "\n",
    "R_2 = r2_score(Y, previsao)  #realiza o cálculo do R2\n",
    "\n",
    "print(\"Coeficiente de Determinação (R2):\", R_2, \"\\nEm porcentagem : \", round(R_2*100) , \"%\\n\")\n"
   ]
  },
  {
   "cell_type": "code",
   "execution_count": null,
   "metadata": {},
   "outputs": [],
   "source": [
    "#selecionando as variáveis para os modelos de regressão \n",
    "entradas_regressao=df_compart_bikes_regressao[['hum','casual']] #variáveis independentes\n",
    "saida_regressao=df_compart_bikes_regressao['cnt'] #variáveis dependentes"
   ]
  },
  {
   "cell_type": "code",
   "execution_count": null,
   "metadata": {},
   "outputs": [],
   "source": [
    "entradas_regressao.shape"
   ]
  },
  {
   "cell_type": "code",
   "execution_count": null,
   "metadata": {},
   "outputs": [],
   "source": [
    "#importa o modelo de regressão linear \n",
    "from sklearn.linear_model import LinearRegression"
   ]
  },
  {
   "cell_type": "code",
   "execution_count": null,
   "metadata": {},
   "outputs": [],
   "source": [
    "#Realiza a construção do modelo de regressão\n",
    "reg= LinearRegression()\n",
    "regressao= reg.fit (entradas_regressao,saida_regressao) # encontra os coeficientes (realiza a regressão)"
   ]
  },
  {
   "cell_type": "code",
   "execution_count": null,
   "metadata": {
    "colab": {},
    "colab_type": "code",
    "id": "sNdnj8-uFIb8"
   },
   "outputs": [],
   "source": [
    "#realiza a previsão\n",
    "previsao=reg.predict(entradas_regressao)"
   ]
  },
  {
   "cell_type": "code",
   "execution_count": null,
   "metadata": {
    "colab": {
     "base_uri": "https://localhost:8080/",
     "height": 67
    },
    "colab_type": "code",
    "executionInfo": {
     "elapsed": 484,
     "status": "ok",
     "timestamp": 1578686578669,
     "user": {
      "displayName": "Tulio Philipe",
      "photoUrl": "https://lh3.googleusercontent.com/a-/AAuE7mA1ZGOGyoLKRxvjkdb3Nahe1kQsDTygha29jmC4YA=s64",
      "userId": "06907869093485551957"
     },
     "user_tz": 180
    },
    "id": "eDWqYUsHFIb-",
    "outputId": "5cccb903-30a3-47b9-dd6d-a8b655b99831"
   },
   "outputs": [],
   "source": [
    "#análise do modelo\n",
    "from sklearn.metrics import r2_score #método para o cálculo do R2 (coeficiente de determinação)"
   ]
  },
  {
   "cell_type": "code",
   "execution_count": null,
   "metadata": {
    "colab": {
     "base_uri": "https://localhost:8080/",
     "height": 445
    },
    "colab_type": "code",
    "executionInfo": {
     "elapsed": 536,
     "status": "ok",
     "timestamp": 1578686594394,
     "user": {
      "displayName": "Tulio Philipe",
      "photoUrl": "https://lh3.googleusercontent.com/a-/AAuE7mA1ZGOGyoLKRxvjkdb3Nahe1kQsDTygha29jmC4YA=s64",
      "userId": "06907869093485551957"
     },
     "user_tz": 180
    },
    "id": "ynQAVuZEFIcA",
    "outputId": "b0cf3c55-8ac0-43a7-818f-c5e906fbd353"
   },
   "outputs": [],
   "source": [
    "arvore_regressora=DecisionTreeRegressor() #define o objeto para a árvore de decisão como regressora\n",
    "arvore_regressora.fit(entradas_regressao, saida_regressao) #aplica a regressão"
   ]
  },
  {
   "cell_type": "code",
   "execution_count": null,
   "metadata": {},
   "outputs": [],
   "source": [
    "#realiza a previsão\n",
    "previsao_arvore=arvore_regressora.predict(entradas_regressao)"
   ]
  },
  {
   "cell_type": "code",
   "execution_count": null,
   "metadata": {},
   "outputs": [],
   "source": [
    "#parâmetros encontrados\n",
    "R_2 = r2_score(saida_regressao, previsao_arvore)  #realiza o cálculo do R2\n",
    "\n",
    "print(\"Coeficiente de Determinação (R2) para a árvore:\", R_2)\n"
   ]
  },
  {
   "cell_type": "code",
   "execution_count": null,
   "metadata": {},
   "outputs": [],
   "source": [
    "#plotando as decisões tomadas pela árvore de decisão\n",
    "from sklearn import tree #importando a biblioteca para as árvores de decisão\n",
    "import pydotplus #biblioteca utilizada como interface para plotar as decisões da árvore de decisão\n",
    "dot_data = tree.export_graphviz(arvore_regressora, out_file=None)\n",
    "grafico = pydotplus.graph_from_dot_data(dot_data)\n",
    "grafico.write_pdf(\"bikeshare.pdf\")"
   ]
  },
  {
   "cell_type": "code",
   "execution_count": null,
   "metadata": {},
   "outputs": [],
   "source": []
  },
  {
   "cell_type": "code",
   "execution_count": null,
   "metadata": {},
   "outputs": [],
   "source": []
  },
  {
   "cell_type": "raw",
   "metadata": {},
   "source": []
  },
  {
   "cell_type": "code",
   "execution_count": null,
   "metadata": {},
   "outputs": [],
   "source": []
  },
  {
   "cell_type": "code",
   "execution_count": null,
   "metadata": {},
   "outputs": [],
   "source": []
  },
  {
   "cell_type": "code",
   "execution_count": null,
   "metadata": {},
   "outputs": [],
   "source": []
  }
 ],
 "metadata": {
  "colab": {
   "name": "cuidadoComsaude.ipynb",
   "provenance": []
  },
  "kernelspec": {
   "display_name": "Python 3",
   "language": "python",
   "name": "python3"
  },
  "language_info": {
   "codemirror_mode": {
    "name": "ipython",
    "version": 3
   },
   "file_extension": ".py",
   "mimetype": "text/x-python",
   "name": "python",
   "nbconvert_exporter": "python",
   "pygments_lexer": "ipython3",
   "version": "3.7.6"
  }
 },
 "nbformat": 4,
 "nbformat_minor": 1
}
