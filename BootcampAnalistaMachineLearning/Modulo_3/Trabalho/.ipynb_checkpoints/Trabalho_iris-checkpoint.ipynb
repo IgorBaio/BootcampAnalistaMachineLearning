{
 "cells": [
  {
   "cell_type": "code",
   "execution_count": null,
   "metadata": {},
   "outputs": [],
   "source": [
    "from sklearn import datasets\n",
    "from sklearn.decomposition import PCA\n",
    "iris = datasets.load_iris()"
   ]
  },
  {
   "cell_type": "code",
   "execution_count": null,
   "metadata": {},
   "outputs": [],
   "source": [
    "iris"
   ]
  },
  {
   "cell_type": "code",
   "execution_count": null,
   "metadata": {},
   "outputs": [],
   "source": [
    "#previsores = base.iloc[:, 0:4].values\n",
    "#classe = base.iloc[:, 4].values\n",
    "X = iris.data[:, 0:4] # pegamos as primeiras duas features aqui. Pegue as outras se quiser.\n",
    "y = iris.target\n",
    "print(y[0]) # classe do primeiro elemento\n",
    "#classe[0]\n",
    "print(X[:1, :]) # primeiro elemento a classificar"
   ]
  },
  {
   "cell_type": "code",
   "execution_count": null,
   "metadata": {},
   "outputs": [],
   "source": [
    "print(type(y))\n",
    "print(\"Tamanho de y:\",len(y))\n",
    "print(\"Tamanho de y = 0:\",len(y[y==0]))\n",
    "print(\"Tamanho de y = 1:\",len(y[y==1]))\n",
    "print(\"Tamanho de y = 2:\",len(y[y==2]))\n",
    "print(\"Tamanho de x:\",len(X))"
   ]
  },
  {
   "cell_type": "code",
   "execution_count": null,
   "metadata": {},
   "outputs": [],
   "source": [
    "from sklearn.model_selection import train_test_split\n",
    "X_train, X_test, y_train, y_test = train_test_split(X,y,test_size=0.3,random_state=50)"
   ]
  },
  {
   "cell_type": "code",
   "execution_count": null,
   "metadata": {},
   "outputs": [],
   "source": [
    "#Random Forest\n",
    "from sklearn.ensemble import RandomForestClassifier\n",
    "rfc = RandomForestClassifier()\n",
    "rfc.fit(X_train,y_train)\n",
    "y_pred = rfc.predict(X_test)"
   ]
  },
  {
   "cell_type": "code",
   "execution_count": null,
   "metadata": {},
   "outputs": [],
   "source": [
    "#Métricas do Random Forest\n",
    "from sklearn.metrics import accuracy_score,recall_score,precision_score,f1_score\n",
    "rfc_acc = round(accuracy_score(y_test,y_pred,6)) #round é para arredondar\n",
    "rfc_rec = round(recall_score(y_test,y_pred,average='weighted'),6)\n",
    "rfc_precision = round(precision_score(y_test,y_pred,average='weighted'),6)\n",
    "rfc_f_score = round(f1_score(y_test,y_pred,average='weighted'),6)"
   ]
  },
  {
   "cell_type": "code",
   "execution_count": null,
   "metadata": {},
   "outputs": [],
   "source": [
    "#KNN\n",
    "from sklearn.neighbors import KNeighborsClassifier\n",
    "knn = KNeighborsClassifier()\n",
    "knn.fit(X_train,y_train)\n",
    "y_pred = knn.predict(X_test)"
   ]
  },
  {
   "cell_type": "code",
   "execution_count": null,
   "metadata": {},
   "outputs": [],
   "source": [
    "#Métricas do KNN\n",
    "knn_acc = round(accuracy_score(y_test,y_pred,6)) #round é para arredondar\n",
    "knn_rec = round(recall_score(y_test,y_pred,average='weighted'),6)\n",
    "knn_precision = round(precision_score(y_test,y_pred,average='weighted'),6)\n",
    "knn_f_score = round(f1_score(y_test,y_pred,average='weighted'),6)"
   ]
  },
  {
   "cell_type": "code",
   "execution_count": null,
   "metadata": {},
   "outputs": [],
   "source": [
    "#Comparação\n",
    "print(\"KNN vs Random Forest\\n\")\n",
    "print(\"Classes: {0}\\n\".format(iris.target_names))\n",
    "print(\"Acurácia: {0} vs {1}\".format(knn_acc,rfc_acc))\n",
    "print(\"Recall: {0} vs {1}\".format(knn_rec,rfc_rec))\n",
    "print(\"Precisão: {0} vs {1}\".format(knn_precision,rfc_precision))\n",
    "print(\"F-Score: {0} vs {1}\".format(knn_f_score,rfc_f_score))"
   ]
  },
  {
   "cell_type": "code",
   "execution_count": null,
   "metadata": {},
   "outputs": [],
   "source": [
    "#Na validaçao cruzada\n",
    "from sklearn.model_selection import cross_val_score\n",
    "cv_rfc = cross_val_score(rfc,X,y)\n",
    "cv_knn = cross_val_score(knn,X,y)\n",
    "print(\"Validação cruzada : {0} vs {1}\".format(cv_knn, cv_rfc))\n",
    "print(\"Validação cruzada (valores maximos) : {0} vs {1}\".format(cv_knn.max(), cv_rfc.max()))"
   ]
  },
  {
   "cell_type": "code",
   "execution_count": null,
   "metadata": {},
   "outputs": [],
   "source": [
    "sum_cv_rfc = 0\n",
    "for cv_score in cv_rfc:\n",
    "    sum_cv_rfc += cv_score\n",
    "    \n",
    "print(\"Resultado para Random Forest:\",sum_cv_rfc/5)"
   ]
  },
  {
   "cell_type": "code",
   "execution_count": null,
   "metadata": {},
   "outputs": [],
   "source": [
    "sum_cv_knn = 0\n",
    "for cv_score in cv_knn:\n",
    "    sum_cv_knn += cv_score\n",
    "    \n",
    "print(\"Resultado para KNN:\",sum_cv_knn/5)"
   ]
  },
  {
   "cell_type": "code",
   "execution_count": null,
   "metadata": {},
   "outputs": [],
   "source": [
    "#hiperparametros\n",
    "from sklearn.model_selection import GridSearchCV"
   ]
  },
  {
   "cell_type": "code",
   "execution_count": null,
   "metadata": {},
   "outputs": [],
   "source": [
    "#RFC\n",
    "params = {'n_estimators':(5,300)\n",
    "         }\n",
    "rfc_hps = GridSearchCV(estimator = rfc,\n",
    "                           param_grid = params)\n",
    "rfc_hps.fit(X,y)\n",
    "print(\"Melhor valor para 'n_estimator':\", rfc_hps.best_params_['n_estimators'])\n"
   ]
  },
  {
   "cell_type": "code",
   "execution_count": null,
   "metadata": {},
   "outputs": [],
   "source": []
  },
  {
   "cell_type": "code",
   "execution_count": null,
   "metadata": {},
   "outputs": [],
   "source": []
  },
  {
   "cell_type": "code",
   "execution_count": null,
   "metadata": {},
   "outputs": [],
   "source": []
  },
  {
   "cell_type": "code",
   "execution_count": null,
   "metadata": {},
   "outputs": [],
   "source": []
  },
  {
   "cell_type": "code",
   "execution_count": null,
   "metadata": {},
   "outputs": [],
   "source": []
  },
  {
   "cell_type": "code",
   "execution_count": null,
   "metadata": {},
   "outputs": [],
   "source": []
  }
 ],
 "metadata": {
  "kernelspec": {
   "display_name": "Python 3",
   "language": "python",
   "name": "python3"
  },
  "language_info": {
   "codemirror_mode": {
    "name": "ipython",
    "version": 3
   },
   "file_extension": ".py",
   "mimetype": "text/x-python",
   "name": "python",
   "nbconvert_exporter": "python",
   "pygments_lexer": "ipython3",
   "version": "3.7.6"
  }
 },
 "nbformat": 4,
 "nbformat_minor": 4
}
