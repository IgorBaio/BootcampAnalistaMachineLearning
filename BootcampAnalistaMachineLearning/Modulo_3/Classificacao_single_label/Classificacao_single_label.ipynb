{
 "cells": [
  {
   "cell_type": "code",
   "execution_count": null,
   "metadata": {},
   "outputs": [],
   "source": [
    "#carregando o dataset\n",
    "from sklearn.datasets import load_wine\n",
    "wine = load_wine()"
   ]
  },
  {
   "cell_type": "code",
   "execution_count": null,
   "metadata": {},
   "outputs": [],
   "source": [
    "#Exemplos de acesso aos dados\n",
    "X = wine.data[:,:]#Features de cada elemento\n",
    "y = wine.target#Classes de cada elemento"
   ]
  },
  {
   "cell_type": "code",
   "execution_count": null,
   "metadata": {},
   "outputs": [],
   "source": [
    "X.shape"
   ]
  },
  {
   "cell_type": "code",
   "execution_count": null,
   "metadata": {},
   "outputs": [],
   "source": [
    "#É preciso treinar o classificador, e testar o seu desempenho com dados \"novos\"\n",
    "#Aqui, dividimos os dados em treino e teste para podermos testar noss desempenho depois\n",
    "from sklearn.model_selection import train_test_split\n",
    "X_train, X_test, y_train, y_test = train_test_split(X, y, test_size=0.33, random_state=42)\n",
    "#O uso dessa função facilita mas não é obrigatorio. Pode-se dividir os dados manualmente"
   ]
  },
  {
   "cell_type": "markdown",
   "metadata": {},
   "source": [
    "**Carregando e treinando os classificadores**"
   ]
  },
  {
   "cell_type": "code",
   "execution_count": null,
   "metadata": {},
   "outputs": [],
   "source": [
    "#Random Forest\n",
    "from sklearn.ensemble import RandomForestClassifier\n",
    "rfc = RandomForestClassifier()\n",
    "rfc.fit(X_train,y_train)\n",
    "y_pred = rfc.predict(X_test)"
   ]
  },
  {
   "cell_type": "code",
   "execution_count": null,
   "metadata": {},
   "outputs": [],
   "source": [
    "#Métricas do Random Forest\n",
    "from sklearn.metrics import accuracy_score,recall_score,precision_score\n",
    "rfc_acc = round(accuracy_score(y_test,y_pred,6)) #round é para arredondar\n",
    "rfc_rec = round(recall_score(y_test,y_pred,average='weighted'),6)\n",
    "rfc_precision = round(precision_score(y_test,y_pred,average='weighted'),6)"
   ]
  },
  {
   "cell_type": "code",
   "execution_count": null,
   "metadata": {},
   "outputs": [],
   "source": [
    "#KNN\n",
    "from sklearn.neighbors import KNeighborsClassifier\n",
    "knn = KNeighborsClassifier(n_neighbors = 3)\n",
    "knn.fit(X_train,y_train)\n",
    "y_pred = knn.predict(X_test)"
   ]
  },
  {
   "cell_type": "code",
   "execution_count": null,
   "metadata": {},
   "outputs": [],
   "source": [
    "#Métricas do KNN\n",
    "knn_acc = round(accuracy_score(y_test,y_pred,6)) #round é para arredondar\n",
    "knn_rec = round(recall_score(y_test,y_pred,average='weighted'),6)\n",
    "knn_precision = round(precision_score(y_test,y_pred,average='weighted'),6)"
   ]
  },
  {
   "cell_type": "code",
   "execution_count": null,
   "metadata": {},
   "outputs": [],
   "source": [
    "#Comparação\n",
    "print(\"KNN vs Random Forest\\n\")\n",
    "print(\"Classes: {0}\\n\".format(wine.target_names))\n",
    "print(\"Acurácia: {0} vs {1}\".format(knn_acc,rfc_acc))\n",
    "print(\"Recall: {0} vs {1}\".format(knn_rec,rfc_rec))\n",
    "print(\"Precisão: {0} vs {1}\".format(knn_precision,rfc_precision))"
   ]
  },
  {
   "cell_type": "code",
   "execution_count": null,
   "metadata": {},
   "outputs": [],
   "source": [
    "#Na validação cruzada\n",
    "from sklearn.model_selection import cross_val_score\n",
    "cv_rfc = cross_val_score(rfc, X, y)\n",
    "cv_knn = cross_val_score(knn, X, y)\n",
    "print(\"\\nValidação cruzada: {0} vs {1}\".format(cv_knn,cv_rfc))\n",
    "print(\"\\nValidação cruzada: {0} vs {1}\".format(cv_knn.max(),cv_rfc.max()))"
   ]
  },
  {
   "cell_type": "code",
   "execution_count": null,
   "metadata": {},
   "outputs": [],
   "source": [
    "sum_cv_rfc = 0\n",
    "for cv_score in cv_rfc:\n",
    "    sum_cv_rfc += cv_score\n",
    "    \n",
    "print(\"\\nResultado Random Forest:\",sum_cv_rfc/5)"
   ]
  },
  {
   "cell_type": "code",
   "execution_count": null,
   "metadata": {},
   "outputs": [],
   "source": [
    "sum_cv_knn = 0\n",
    "for cv_score in cv_knn:\n",
    "    sum_cv_knn += cv_score\n",
    "    \n",
    "print(\"\\nResultado KNN:\",sum_cv_knn/5)"
   ]
  },
  {
   "cell_type": "code",
   "execution_count": null,
   "metadata": {},
   "outputs": [],
   "source": [
    "#Buscando hiper parametros\n",
    "from sklearn.model_selection import GridSearchCV"
   ]
  },
  {
   "cell_type": "code",
   "execution_count": null,
   "metadata": {},
   "outputs": [],
   "source": [
    "#RFC\n",
    "parameters = {\"min_samples_split\":(2,6)}\n",
    "rfc_hps = GridSearchCV(rfc,parameters)\n",
    "rfc_hps.fit(X,y)\n",
    "print(\"Melhor valor para min_samples_split: {0}\".format(rfc_hps.best_params_['min_samples_split']))"
   ]
  },
  {
   "cell_type": "code",
   "execution_count": null,
   "metadata": {},
   "outputs": [],
   "source": [
    "#KNN\n",
    "parameters = {\"n_neighbors\":(1,20)}\n",
    "knn_hps = GridSearchCV(knn,parameters)\n",
    "knn_hps.fit(X,y)\n",
    "print(\"Melhor valor para n_neighbors: {0}\".format(knn_hps.best_params_['n_neighbors']))"
   ]
  },
  {
   "cell_type": "code",
   "execution_count": null,
   "metadata": {},
   "outputs": [],
   "source": []
  },
  {
   "cell_type": "code",
   "execution_count": null,
   "metadata": {},
   "outputs": [],
   "source": []
  },
  {
   "cell_type": "code",
   "execution_count": null,
   "metadata": {},
   "outputs": [],
   "source": []
  },
  {
   "cell_type": "code",
   "execution_count": null,
   "metadata": {},
   "outputs": [],
   "source": []
  },
  {
   "cell_type": "code",
   "execution_count": null,
   "metadata": {},
   "outputs": [],
   "source": []
  },
  {
   "cell_type": "code",
   "execution_count": null,
   "metadata": {},
   "outputs": [],
   "source": []
  },
  {
   "cell_type": "code",
   "execution_count": null,
   "metadata": {},
   "outputs": [],
   "source": []
  }
 ],
 "metadata": {
  "kernelspec": {
   "display_name": "Python 3",
   "language": "python",
   "name": "python3"
  },
  "language_info": {
   "codemirror_mode": {
    "name": "ipython",
    "version": 3
   },
   "file_extension": ".py",
   "mimetype": "text/x-python",
   "name": "python",
   "nbconvert_exporter": "python",
   "pygments_lexer": "ipython3",
   "version": "3.7.6"
  }
 },
 "nbformat": 4,
 "nbformat_minor": 4
}
